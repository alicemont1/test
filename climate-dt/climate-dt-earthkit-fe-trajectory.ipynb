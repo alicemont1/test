{
 "cells": [
  {
   "cell_type": "markdown",
   "id": "0",
   "metadata": {},
   "source": [
    "## Polytope Climate-DT Trajectory example notebook\n",
    "\n",
    "This notebook shows how to use earthkit-data and earthkit-plots to pull destination-earth data from LUMI and plot it using earthkit-plots.\n",
    "\n",
    "Before running the notebook you need to set up your credentials. See the main readme of this repository for different ways to do this or use the following cells to authenticate.\n",
    "\n",
    "You will need to generate your credentials using the desp-authentication.py script.\n",
    "\n",
    "This can be run as follows:"
   ]
  },
  {
   "cell_type": "code",
   "execution_count": null,
   "id": "1",
   "metadata": {
    "tags": [
     "skip-execution"
    ]
   },
   "outputs": [],
   "source": [
    "%%capture cap\n",
    "%run ../desp-authentication.py"
   ]
  },
  {
   "cell_type": "markdown",
   "id": "2",
   "metadata": {},
   "source": [
    "This will generate a token that can then be used by earthkit and polytope."
   ]
  },
  {
   "cell_type": "code",
   "execution_count": null,
   "id": "3",
   "metadata": {
    "tags": [
     "skip-execution"
    ]
   },
   "outputs": [],
   "source": [
    "output_1 = cap.stdout.split('}\\n')\n",
    "access_token = output_1[-1][0:-1]"
   ]
  },
  {
   "cell_type": "markdown",
   "id": "4",
   "metadata": {},
   "source": [
    "# Requirements\n",
    "To run this notebook install the following:\n",
    "* pip install earthkit-data\n",
    "* pip install earthkit-plots\n",
    "* pip install earthkit-regrid  (Optional for spectral variables)\n",
    "* pip install cf-units         (Optional for unit conversion in maps)\n",
    "\n",
    "If you do not have eccodes installed please install eccodes using conda as it is a dependency of earthkit, or install earthkit via conda\n",
    "\n",
    "* conda install eccodes -c conda-forge\n",
    "* conda install earthkit-data -c conda-forge"
   ]
  },
  {
   "cell_type": "code",
   "execution_count": null,
   "id": "5",
   "metadata": {},
   "outputs": [],
   "source": [
    "import earthkit.data\n",
    "import earthkit.plots\n",
    "import numpy as np\n",
    "from polytope.api import Client"
   ]
  },
  {
   "cell_type": "code",
   "execution_count": null,
   "id": "6",
   "metadata": {
    "tags": [
     "skip-execution",
     "skip-outputs"
    ]
   },
   "outputs": [],
   "source": [
    "n = 1000\n",
    "lons = np.linspace(0, 5*360, n)\n",
    "lats = np.linspace(-85, 85, n)\n",
    "linspace = np.stack([lats, lons], axis=1)\n",
    "pts = linspace.tolist()\n",
    "\n",
    "client = Client(\n",
    "    address=\"polytope.lumi.apps.dte.destination-earth.eu\")\n",
    "\n",
    "request = {\n",
    "    \"activity\": \"scenariomip\",\n",
    "    \"class\": \"d1\",\n",
    "    \"dataset\": \"climate-dt\",\n",
    "    \"experiment\": \"ssp3-7.0\",\n",
    "    \"generation\": \"1\",\n",
    "    \"levtype\": \"sfc\",\n",
    "    \"date\": \"20210101\",\n",
    "    \"model\": \"ifs-nemo\",\n",
    "    \"expver\": \"0001\",\n",
    "    \"param\": \"167/165\",\n",
    "    \"realization\": \"1\",\n",
    "    \"resolution\": \"high\",\n",
    "    \"stream\": \"clte\",\n",
    "    \"type\": \"fc\",\n",
    "    \"time\": \"0000\",\n",
    "    \"feature\" :{ \n",
    "        \"type\" : \"trajectory\", \n",
    "        \"points\" : pts, \n",
    "        \"inflation\" : 0.1, \n",
    "        \"inflate\" : \"round\",\n",
    "        \"axes\" :[\"latitude\", \"longitude\"], \n",
    "    },\n",
    "}\n",
    "file = client.retrieve(\"destination-earth\", request, \"data/climate-dt-earthkit-fe-trajectory.grib\") \n"
   ]
  },
  {
   "cell_type": "code",
   "execution_count": null,
   "id": "7",
   "metadata": {},
   "outputs": [],
   "source": [
    "data = earthkit.data.from_source(\"file\", \"data/climate-dt-earthkit-fe-trajectory.grib\") "
   ]
  },
  {
   "cell_type": "code",
   "execution_count": null,
   "id": "8",
   "metadata": {},
   "outputs": [],
   "source": [
    "data._json()"
   ]
  },
  {
   "cell_type": "code",
   "execution_count": null,
   "id": "9",
   "metadata": {
    "tags": [
     "skip-text-html"
    ]
   },
   "outputs": [],
   "source": [
    "da = data.to_xarray()\n",
    "da"
   ]
  },
  {
   "cell_type": "code",
   "execution_count": null,
   "id": "10",
   "metadata": {
    "tags": [
     "check-image"
    ]
   },
   "outputs": [],
   "source": [
    "chart = earthkit.plots.Map()\n",
    "chart.point_cloud(da['2t'], x=\"longitude\", y=\"latitude\")\n",
    "chart.coastlines()\n",
    "chart.borders()\n",
    "chart.title(\"{variable_name}\")\n",
    "chart.legend()\n",
    "chart.show()"
   ]
  },
  {
   "cell_type": "code",
   "execution_count": null,
   "id": "11",
   "metadata": {},
   "outputs": [],
   "source": []
  }
 ],
 "metadata": {
  "kernelspec": {
   "display_name": "earthkit_11",
   "language": "python",
   "name": "python3"
  },
  "language_info": {
   "codemirror_mode": {
    "name": "ipython",
    "version": 3
   },
   "file_extension": ".py",
   "mimetype": "text/x-python",
   "name": "python",
   "nbconvert_exporter": "python",
   "pygments_lexer": "ipython3",
   "version": "3.13.5"
  }
 },
 "nbformat": 4,
 "nbformat_minor": 5
}
