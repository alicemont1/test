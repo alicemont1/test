{
 "cells": [
  {
   "cell_type": "markdown",
   "id": "089adc3f-943e-4b49-bc45-9e11c737b579",
   "metadata": {},
   "source": [
    "## Polytope Climate-DT Time Series example notebook for story nudging\n",
    "\n",
    "This notebook shows how to use earthkit-data and earthkit-plots to pull destination-earth data from LUMI and plot it using earthkit-plots.\n",
    "\n",
    "Before running the notebook you need to set up your credentials. See the main readme of this repository for different ways to do this or use the following cells to authenticate.\n",
    "\n",
    "You will need to generate your credentials using the desp-authentication.py script.\n",
    "\n",
    "This can be run as follows:"
   ]
  },
  {
   "cell_type": "code",
   "execution_count": 14,
   "id": "690284b8-914f-4615-9f10-d64bc0a41dfe",
   "metadata": {
    "tags": [
     "skip-execution"
    ]
   },
   "outputs": [],
   "source": [
    "%%capture cap\n",
    "%run ../desp-authentication.py"
   ]
  },
  {
   "cell_type": "markdown",
   "id": "5ac38420-9c94-464f-990a-bf8166004218",
   "metadata": {},
   "source": [
    "This will generate a token that can then be used by earthkit and polytope."
   ]
  },
  {
   "cell_type": "code",
   "execution_count": 15,
   "id": "88643e46",
   "metadata": {
    "tags": [
     "skip-execution"
    ]
   },
   "outputs": [],
   "source": [
    "output_1 = cap.stdout.split('}\\n')\n",
    "access_token = output_1[-1][0:-1]"
   ]
  },
  {
   "cell_type": "markdown",
   "id": "a44eafad-eb93-475f-9824-521473c00bb7",
   "metadata": {},
   "source": [
    "# Requirements\n",
    "To run this notebook install the following:\n",
    "* pip install earthkit-data\n",
    "* pip install earthkit-plots\n",
    "* pip install earthkit-regrid  (Optional for spectral variables)\n",
    "* pip install cf-units         (Optional for unit conversion in maps)\n",
    "\n",
    "If you do not have eccodes installed please install eccodes using conda as it is a dependency of earthkit, or install earthkit via conda\n",
    "\n",
    "* conda install eccodes -c conda-forge\n",
    "* conda install earthkit-data -c conda-forge"
   ]
  },
  {
   "cell_type": "code",
   "execution_count": 4,
   "id": "9a863405",
   "metadata": {},
   "outputs": [],
   "source": [
    "import earthkit.data\n",
    "from earthkit.plots.interactive import Chart\n",
    "from polytope.api import Client"
   ]
  },
  {
   "cell_type": "code",
   "execution_count": 17,
   "id": "b2827834-1bcf-4958-83b4-c3a6b9a70275",
   "metadata": {
    "tags": [
     "skip-execution",
     "skip-outputs"
    ]
   },
   "outputs": [],
   "source": [
    "client = Client(\n",
    "    address=\"polytope.lumi.apps.dte.destination-earth.eu\")\n",
    "\n",
    "request = {\n",
    "     \"activity\": \"story-nudging\",\n",
    "     \"class\": \"d1\",\n",
    "     \"dataset\": \"climate-dt\",\n",
    "     \"experiment\": \"cont\",\n",
    "     \"generation\": \"1\",\n",
    "     \"levtype\": \"sfc\",\n",
    "     \"date\": \"20180205/to/20180220\",\n",
    "     \"model\": \"ifs-fesom\",\n",
    "     \"expver\": \"0001\",\n",
    "     \"param\": \"165\",\n",
    "     \"realization\": \"1\",\n",
    "     \"resolution\": \"high\",\n",
    "     \"stream\": \"clte\",\n",
    "     \"type\": \"fc\",\n",
    "     \"time\": \"0000\",\n",
    "     \"feature\": {\n",
    "         \"type\": \"timeseries\",\n",
    "         \"points\": [[38, -9.5]],\n",
    "         \"time_axis\": \"date\",\n",
    "     }\n",
    " }\n",
    "\n",
    "file = client.retrieve(\"destination-earth\", request, \"data/climate-dt-earthkit-fe-story-nudging.covjson\") "
   ]
  },
  {
   "cell_type": "code",
   "execution_count": 11,
   "id": "0a1af083",
   "metadata": {},
   "outputs": [],
   "source": [
    "data = earthkit.data.from_source(\"file\", \"data/climate-dt-earthkit-fe-story-nudging.covjson\") "
   ]
  },
  {
   "cell_type": "code",
   "execution_count": 12,
   "id": "0c76470c-e897-4747-a56d-c7c786676b52",
   "metadata": {},
   "outputs": [
    {
     "data": {
      "text/plain": [
       "{'type': 'CoverageCollection',\n",
       " 'domainType': 'PointSeries',\n",
       " 'coverages': [{'mars:metadata': {'activity': 'story-nudging',\n",
       "    'class': 'd1',\n",
       "    'dataset': 'climate-dt',\n",
       "    'experiment': 'cont',\n",
       "    'expver': '0001',\n",
       "    'generation': '1',\n",
       "    'levtype': 'sfc',\n",
       "    'model': 'ifs-fesom',\n",
       "    'realization': '1',\n",
       "    'resolution': 'high',\n",
       "    'stream': 'clte',\n",
       "    'type': 'fc',\n",
       "    'number': 0,\n",
       "    'Forecast date': '2018-02-20 00:00:00Z'},\n",
       "   'type': 'Coverage',\n",
       "   'domain': {'type': 'Domain',\n",
       "    'axes': {'latitude': {'values': [38.016284446058]},\n",
       "     'longitude': {'values': [350.5078125]},\n",
       "     'levelist': {'values': [0]},\n",
       "     't': {'values': ['2018-02-05 00:00:00Z',\n",
       "       '2018-02-06 00:00:00Z',\n",
       "       '2018-02-07 00:00:00Z',\n",
       "       '2018-02-08 00:00:00Z',\n",
       "       '2018-02-09 00:00:00Z',\n",
       "       '2018-02-10 00:00:00Z',\n",
       "       '2018-02-11 00:00:00Z',\n",
       "       '2018-02-12 00:00:00Z',\n",
       "       '2018-02-13 00:00:00Z',\n",
       "       '2018-02-14 00:00:00Z',\n",
       "       '2018-02-15 00:00:00Z',\n",
       "       '2018-02-16 00:00:00Z',\n",
       "       '2018-02-17 00:00:00Z',\n",
       "       '2018-02-18 00:00:00Z',\n",
       "       '2018-02-19 00:00:00Z',\n",
       "       '2018-02-20 00:00:00Z']}}},\n",
       "   'ranges': {'10u': {'type': 'NdArray',\n",
       "     'dataType': 'float',\n",
       "     'shape': [16],\n",
       "     'axisNames': ['10u'],\n",
       "     'values': [-1.0349750518798828,\n",
       "      -1.3101329803466797,\n",
       "      -3.7172813415527344,\n",
       "      -7.020038604736328,\n",
       "      0.06177711486816406,\n",
       "      -1.0358867645263672,\n",
       "      -1.3459739685058594,\n",
       "      8.125490188598633,\n",
       "      2.327951431274414,\n",
       "      5.282482147216797,\n",
       "      3.2992591857910156,\n",
       "      2.3224658966064453,\n",
       "      2.5656280517578125,\n",
       "      -1.331939697265625,\n",
       "      -3.4963855743408203,\n",
       "      -1.722890853881836]}}}],\n",
       " 'referencing': [{'coordinates': ['x', 'y', 'z'],\n",
       "   'system': {'type': 'GeographicCRS',\n",
       "    'id': 'http://www.opengis.net/def/crs/OGC/1.3/CRS84'}}],\n",
       " 'parameters': {'10u': {'type': 'Parameter',\n",
       "   'description': {'en': 'This parameter is the eastward component of the 10m wind. It is the horizontal speed of air moving towards the east, at a height of ten metres above the surface of the Earth, in metres per second.<br/><br/>Care should be taken when comparing this parameter with observations, because wind observations vary on small space and time scales and are affected by the local terrain, vegetation and buildings that are represented only on average in the ECMWF Integrated Forecasting System.<br/><br/>This parameter can be combined with the V component of 10m wind to give the speed and direction of the horizontal 10m wind.'},\n",
       "   'unit': {'symbol': 'm s**-1'},\n",
       "   'observedProperty': {'id': '10u',\n",
       "    'label': {'en': '10 metre U wind component'}}}}}"
      ]
     },
     "execution_count": 12,
     "metadata": {},
     "output_type": "execute_result"
    }
   ],
   "source": [
    "data._json()"
   ]
  },
  {
   "cell_type": "code",
   "execution_count": 14,
   "id": "670486d6",
   "metadata": {},
   "outputs": [],
   "source": [
    "def location_to_string(location):\n",
    "    \"\"\"\n",
    "    Converts latitude and longitude to a string representation with degrees\n",
    "    and N/S/E/W.\n",
    "    \"\"\"\n",
    "    (lat, lon) = location\n",
    "    lat_dir = \"N\" if lat >= 0 else \"S\"\n",
    "    lon_dir = \"E\" if lon >= 0 else \"W\"\n",
    "    return f\"{abs(lat):.2f}°{lat_dir}, {abs(lon):.2f}°{lon_dir}\""
   ]
  },
  {
   "cell_type": "code",
   "execution_count": 13,
   "id": "411d84fc",
   "metadata": {
    "tags": [
     "skip-text-html"
    ]
   },
   "outputs": [],
   "source": [
    "ds = data.to_xarray()"
   ]
  },
  {
   "cell_type": "code",
   "execution_count": 16,
   "id": "f12d8515",
   "metadata": {
    "tags": [
     "check-image"
    ]
   },
   "outputs": [
    {
     "data": {
      "application/vnd.plotly.v1+json": {
       "config": {
        "plotlyServerURL": "https://plot.ly"
       },
       "data": [
        {
         "line": {
          "color": "grey"
         },
         "type": "scatter",
         "x": [
          "2018-02-05T00:00:00",
          "2018-02-06T00:00:00",
          "2018-02-07T00:00:00",
          "2018-02-08T00:00:00",
          "2018-02-09T00:00:00",
          "2018-02-10T00:00:00",
          "2018-02-11T00:00:00",
          "2018-02-12T00:00:00",
          "2018-02-13T00:00:00",
          "2018-02-14T00:00:00",
          "2018-02-15T00:00:00",
          "2018-02-16T00:00:00",
          "2018-02-17T00:00:00",
          "2018-02-18T00:00:00",
          "2018-02-19T00:00:00",
          "2018-02-20T00:00:00"
         ],
         "y": {
          "bdata": "AAAAAEKP8L8AAAAATvb0vwAAAAD+vA3AAAAAAIUUHMAAAAAAQKGvPwAAAAD+kvC/AAAAAByJ9b8AAABAQEAgQAAAAAClnwJAAAAAAEMhFUAAAAAA4mQKQAAAAABplAJAAAAAAGiGBEAAAAAAoE/1vwAAAACZ+AvAAAAAAPaQ+78=",
          "dtype": "f8"
         }
        }
       ],
       "layout": {
        "annotations": [
         {
          "font": {
           "size": 16
          },
          "showarrow": false,
          "text": "10u",
          "x": 0.5,
          "xanchor": "center",
          "xref": "paper",
          "y": 1,
          "yanchor": "bottom",
          "yref": "paper"
         }
        ],
        "colorway": [
         "#636EFA",
         "#EF553B",
         "#00CC96",
         "#AB63FA",
         "#FFA15A",
         "#19D3F3",
         "#FF6692",
         "#B6E880",
         "#FF97FF",
         "#FECB52"
        ],
        "height": 750,
        "hovermode": "x",
        "plot_bgcolor": "white",
        "showlegend": false,
        "template": {
         "data": {
          "bar": [
           {
            "error_x": {
             "color": "#2a3f5f"
            },
            "error_y": {
             "color": "#2a3f5f"
            },
            "marker": {
             "line": {
              "color": "#E5ECF6",
              "width": 0.5
             },
             "pattern": {
              "fillmode": "overlay",
              "size": 10,
              "solidity": 0.2
             }
            },
            "type": "bar"
           }
          ],
          "barpolar": [
           {
            "marker": {
             "line": {
              "color": "#E5ECF6",
              "width": 0.5
             },
             "pattern": {
              "fillmode": "overlay",
              "size": 10,
              "solidity": 0.2
             }
            },
            "type": "barpolar"
           }
          ],
          "carpet": [
           {
            "aaxis": {
             "endlinecolor": "#2a3f5f",
             "gridcolor": "white",
             "linecolor": "white",
             "minorgridcolor": "white",
             "startlinecolor": "#2a3f5f"
            },
            "baxis": {
             "endlinecolor": "#2a3f5f",
             "gridcolor": "white",
             "linecolor": "white",
             "minorgridcolor": "white",
             "startlinecolor": "#2a3f5f"
            },
            "type": "carpet"
           }
          ],
          "choropleth": [
           {
            "colorbar": {
             "outlinewidth": 0,
             "ticks": ""
            },
            "type": "choropleth"
           }
          ],
          "contour": [
           {
            "colorbar": {
             "outlinewidth": 0,
             "ticks": ""
            },
            "colorscale": [
             [
              0,
              "#0d0887"
             ],
             [
              0.1111111111111111,
              "#46039f"
             ],
             [
              0.2222222222222222,
              "#7201a8"
             ],
             [
              0.3333333333333333,
              "#9c179e"
             ],
             [
              0.4444444444444444,
              "#bd3786"
             ],
             [
              0.5555555555555556,
              "#d8576b"
             ],
             [
              0.6666666666666666,
              "#ed7953"
             ],
             [
              0.7777777777777778,
              "#fb9f3a"
             ],
             [
              0.8888888888888888,
              "#fdca26"
             ],
             [
              1,
              "#f0f921"
             ]
            ],
            "type": "contour"
           }
          ],
          "contourcarpet": [
           {
            "colorbar": {
             "outlinewidth": 0,
             "ticks": ""
            },
            "type": "contourcarpet"
           }
          ],
          "heatmap": [
           {
            "colorbar": {
             "outlinewidth": 0,
             "ticks": ""
            },
            "colorscale": [
             [
              0,
              "#0d0887"
             ],
             [
              0.1111111111111111,
              "#46039f"
             ],
             [
              0.2222222222222222,
              "#7201a8"
             ],
             [
              0.3333333333333333,
              "#9c179e"
             ],
             [
              0.4444444444444444,
              "#bd3786"
             ],
             [
              0.5555555555555556,
              "#d8576b"
             ],
             [
              0.6666666666666666,
              "#ed7953"
             ],
             [
              0.7777777777777778,
              "#fb9f3a"
             ],
             [
              0.8888888888888888,
              "#fdca26"
             ],
             [
              1,
              "#f0f921"
             ]
            ],
            "type": "heatmap"
           }
          ],
          "histogram": [
           {
            "marker": {
             "pattern": {
              "fillmode": "overlay",
              "size": 10,
              "solidity": 0.2
             }
            },
            "type": "histogram"
           }
          ],
          "histogram2d": [
           {
            "colorbar": {
             "outlinewidth": 0,
             "ticks": ""
            },
            "colorscale": [
             [
              0,
              "#0d0887"
             ],
             [
              0.1111111111111111,
              "#46039f"
             ],
             [
              0.2222222222222222,
              "#7201a8"
             ],
             [
              0.3333333333333333,
              "#9c179e"
             ],
             [
              0.4444444444444444,
              "#bd3786"
             ],
             [
              0.5555555555555556,
              "#d8576b"
             ],
             [
              0.6666666666666666,
              "#ed7953"
             ],
             [
              0.7777777777777778,
              "#fb9f3a"
             ],
             [
              0.8888888888888888,
              "#fdca26"
             ],
             [
              1,
              "#f0f921"
             ]
            ],
            "type": "histogram2d"
           }
          ],
          "histogram2dcontour": [
           {
            "colorbar": {
             "outlinewidth": 0,
             "ticks": ""
            },
            "colorscale": [
             [
              0,
              "#0d0887"
             ],
             [
              0.1111111111111111,
              "#46039f"
             ],
             [
              0.2222222222222222,
              "#7201a8"
             ],
             [
              0.3333333333333333,
              "#9c179e"
             ],
             [
              0.4444444444444444,
              "#bd3786"
             ],
             [
              0.5555555555555556,
              "#d8576b"
             ],
             [
              0.6666666666666666,
              "#ed7953"
             ],
             [
              0.7777777777777778,
              "#fb9f3a"
             ],
             [
              0.8888888888888888,
              "#fdca26"
             ],
             [
              1,
              "#f0f921"
             ]
            ],
            "type": "histogram2dcontour"
           }
          ],
          "mesh3d": [
           {
            "colorbar": {
             "outlinewidth": 0,
             "ticks": ""
            },
            "type": "mesh3d"
           }
          ],
          "parcoords": [
           {
            "line": {
             "colorbar": {
              "outlinewidth": 0,
              "ticks": ""
             }
            },
            "type": "parcoords"
           }
          ],
          "pie": [
           {
            "automargin": true,
            "type": "pie"
           }
          ],
          "scatter": [
           {
            "fillpattern": {
             "fillmode": "overlay",
             "size": 10,
             "solidity": 0.2
            },
            "type": "scatter"
           }
          ],
          "scatter3d": [
           {
            "line": {
             "colorbar": {
              "outlinewidth": 0,
              "ticks": ""
             }
            },
            "marker": {
             "colorbar": {
              "outlinewidth": 0,
              "ticks": ""
             }
            },
            "type": "scatter3d"
           }
          ],
          "scattercarpet": [
           {
            "marker": {
             "colorbar": {
              "outlinewidth": 0,
              "ticks": ""
             }
            },
            "type": "scattercarpet"
           }
          ],
          "scattergeo": [
           {
            "marker": {
             "colorbar": {
              "outlinewidth": 0,
              "ticks": ""
             }
            },
            "type": "scattergeo"
           }
          ],
          "scattergl": [
           {
            "marker": {
             "colorbar": {
              "outlinewidth": 0,
              "ticks": ""
             }
            },
            "type": "scattergl"
           }
          ],
          "scattermap": [
           {
            "marker": {
             "colorbar": {
              "outlinewidth": 0,
              "ticks": ""
             }
            },
            "type": "scattermap"
           }
          ],
          "scattermapbox": [
           {
            "marker": {
             "colorbar": {
              "outlinewidth": 0,
              "ticks": ""
             }
            },
            "type": "scattermapbox"
           }
          ],
          "scatterpolar": [
           {
            "marker": {
             "colorbar": {
              "outlinewidth": 0,
              "ticks": ""
             }
            },
            "type": "scatterpolar"
           }
          ],
          "scatterpolargl": [
           {
            "marker": {
             "colorbar": {
              "outlinewidth": 0,
              "ticks": ""
             }
            },
            "type": "scatterpolargl"
           }
          ],
          "scatterternary": [
           {
            "marker": {
             "colorbar": {
              "outlinewidth": 0,
              "ticks": ""
             }
            },
            "type": "scatterternary"
           }
          ],
          "surface": [
           {
            "colorbar": {
             "outlinewidth": 0,
             "ticks": ""
            },
            "colorscale": [
             [
              0,
              "#0d0887"
             ],
             [
              0.1111111111111111,
              "#46039f"
             ],
             [
              0.2222222222222222,
              "#7201a8"
             ],
             [
              0.3333333333333333,
              "#9c179e"
             ],
             [
              0.4444444444444444,
              "#bd3786"
             ],
             [
              0.5555555555555556,
              "#d8576b"
             ],
             [
              0.6666666666666666,
              "#ed7953"
             ],
             [
              0.7777777777777778,
              "#fb9f3a"
             ],
             [
              0.8888888888888888,
              "#fdca26"
             ],
             [
              1,
              "#f0f921"
             ]
            ],
            "type": "surface"
           }
          ],
          "table": [
           {
            "cells": {
             "fill": {
              "color": "#EBF0F8"
             },
             "line": {
              "color": "white"
             }
            },
            "header": {
             "fill": {
              "color": "#C8D4E3"
             },
             "line": {
              "color": "white"
             }
            },
            "type": "table"
           }
          ]
         },
         "layout": {
          "annotationdefaults": {
           "arrowcolor": "#2a3f5f",
           "arrowhead": 0,
           "arrowwidth": 1
          },
          "autotypenumbers": "strict",
          "coloraxis": {
           "colorbar": {
            "outlinewidth": 0,
            "ticks": ""
           }
          },
          "colorscale": {
           "diverging": [
            [
             0,
             "#8e0152"
            ],
            [
             0.1,
             "#c51b7d"
            ],
            [
             0.2,
             "#de77ae"
            ],
            [
             0.3,
             "#f1b6da"
            ],
            [
             0.4,
             "#fde0ef"
            ],
            [
             0.5,
             "#f7f7f7"
            ],
            [
             0.6,
             "#e6f5d0"
            ],
            [
             0.7,
             "#b8e186"
            ],
            [
             0.8,
             "#7fbc41"
            ],
            [
             0.9,
             "#4d9221"
            ],
            [
             1,
             "#276419"
            ]
           ],
           "sequential": [
            [
             0,
             "#0d0887"
            ],
            [
             0.1111111111111111,
             "#46039f"
            ],
            [
             0.2222222222222222,
             "#7201a8"
            ],
            [
             0.3333333333333333,
             "#9c179e"
            ],
            [
             0.4444444444444444,
             "#bd3786"
            ],
            [
             0.5555555555555556,
             "#d8576b"
            ],
            [
             0.6666666666666666,
             "#ed7953"
            ],
            [
             0.7777777777777778,
             "#fb9f3a"
            ],
            [
             0.8888888888888888,
             "#fdca26"
            ],
            [
             1,
             "#f0f921"
            ]
           ],
           "sequentialminus": [
            [
             0,
             "#0d0887"
            ],
            [
             0.1111111111111111,
             "#46039f"
            ],
            [
             0.2222222222222222,
             "#7201a8"
            ],
            [
             0.3333333333333333,
             "#9c179e"
            ],
            [
             0.4444444444444444,
             "#bd3786"
            ],
            [
             0.5555555555555556,
             "#d8576b"
            ],
            [
             0.6666666666666666,
             "#ed7953"
            ],
            [
             0.7777777777777778,
             "#fb9f3a"
            ],
            [
             0.8888888888888888,
             "#fdca26"
            ],
            [
             1,
             "#f0f921"
            ]
           ]
          },
          "colorway": [
           "#636efa",
           "#EF553B",
           "#00cc96",
           "#ab63fa",
           "#FFA15A",
           "#19d3f3",
           "#FF6692",
           "#B6E880",
           "#FF97FF",
           "#FECB52"
          ],
          "font": {
           "color": "#2a3f5f"
          },
          "geo": {
           "bgcolor": "white",
           "lakecolor": "white",
           "landcolor": "#E5ECF6",
           "showlakes": true,
           "showland": true,
           "subunitcolor": "white"
          },
          "hoverlabel": {
           "align": "left"
          },
          "hovermode": "closest",
          "mapbox": {
           "style": "light"
          },
          "paper_bgcolor": "white",
          "plot_bgcolor": "#E5ECF6",
          "polar": {
           "angularaxis": {
            "gridcolor": "white",
            "linecolor": "white",
            "ticks": ""
           },
           "bgcolor": "#E5ECF6",
           "radialaxis": {
            "gridcolor": "white",
            "linecolor": "white",
            "ticks": ""
           }
          },
          "scene": {
           "xaxis": {
            "backgroundcolor": "#E5ECF6",
            "gridcolor": "white",
            "gridwidth": 2,
            "linecolor": "white",
            "showbackground": true,
            "ticks": "",
            "zerolinecolor": "white"
           },
           "yaxis": {
            "backgroundcolor": "#E5ECF6",
            "gridcolor": "white",
            "gridwidth": 2,
            "linecolor": "white",
            "showbackground": true,
            "ticks": "",
            "zerolinecolor": "white"
           },
           "zaxis": {
            "backgroundcolor": "#E5ECF6",
            "gridcolor": "white",
            "gridwidth": 2,
            "linecolor": "white",
            "showbackground": true,
            "ticks": "",
            "zerolinecolor": "white"
           }
          },
          "shapedefaults": {
           "line": {
            "color": "#2a3f5f"
           }
          },
          "ternary": {
           "aaxis": {
            "gridcolor": "white",
            "linecolor": "white",
            "ticks": ""
           },
           "baxis": {
            "gridcolor": "white",
            "linecolor": "white",
            "ticks": ""
           },
           "bgcolor": "#E5ECF6",
           "caxis": {
            "gridcolor": "white",
            "linecolor": "white",
            "ticks": ""
           }
          },
          "title": {
           "x": 0.05
          },
          "xaxis": {
           "automargin": true,
           "gridcolor": "white",
           "linecolor": "white",
           "ticks": "",
           "title": {
            "standoff": 15
           },
           "zerolinecolor": "white",
           "zerolinewidth": 2
          },
          "yaxis": {
           "automargin": true,
           "gridcolor": "white",
           "linecolor": "white",
           "ticks": "",
           "title": {
            "standoff": 15
           },
           "zerolinecolor": "white",
           "zerolinewidth": 2
          }
         }
        },
        "title": {
         "text": "ECMWF ensemble meteogram at 38.00°N, 9.50°W"
        },
        "xaxis": {
         "anchor": "y",
         "domain": [
          0,
          1
         ],
         "gridwidth": 1,
         "showgrid": false,
         "showline": false,
         "zeroline": false
        },
        "yaxis": {
         "anchor": "x",
         "domain": [
          0,
          1
         ],
         "gridcolor": "#EEEEEE",
         "linecolor": "black",
         "showgrid": true,
         "showline": true,
         "title": {
          "text": "m s**-1"
         },
         "zeroline": false
        }
       }
      }
     },
     "metadata": {},
     "output_type": "display_data"
    }
   ],
   "source": [
    "TIME_FREQUENCY = \"1d\"\n",
    "QUANTILES = [0, 0.1, 0.25, 0.5, 0.75, 0.9, 1]\n",
    "LOCATION = ((38, -9.5))\n",
    "\n",
    "chart = Chart()\n",
    "chart.title(f\"ECMWF ensemble meteogram at {location_to_string(LOCATION)}\")\n",
    "#chart.box(ds, time_frequency=TIME_FREQUENCY, quantiles=QUANTILES)\n",
    "chart.line(ds, line_color='grey', time_frequency=TIME_FREQUENCY)\n",
    "chart.show() # Replace with chart.show() in an interactive session!"
   ]
  }
 ],
 "metadata": {
  "kernelspec": {
   "display_name": "earthkit_11",
   "language": "python",
   "name": "python3"
  },
  "language_info": {
   "codemirror_mode": {
    "name": "ipython",
    "version": 3
   },
   "file_extension": ".py",
   "mimetype": "text/x-python",
   "name": "python",
   "nbconvert_exporter": "python",
   "pygments_lexer": "ipython3",
   "version": "3.13.5"
  }
 },
 "nbformat": 4,
 "nbformat_minor": 5
}
