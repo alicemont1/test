{
 "cells": [
  {
   "cell_type": "markdown",
   "id": "089adc3f-943e-4b49-bc45-9e11c737b579",
   "metadata": {},
   "source": [
    "## Polytope Climate-DT Time Series example notebook for story nudging\n",
    "\n",
    "This notebook shows how to use earthkit-data and earthkit-plots to pull destination-earth data from LUMI and plot it using earthkit-plots.\n",
    "\n",
    "Before running the notebook you need to set up your credentials. See the main readme of this repository for different ways to do this or use the following cells to authenticate.\n",
    "\n",
    "You will need to generate your credentials using the desp-authentication.py script.\n",
    "\n",
    "This can be run as follows:"
   ]
  },
  {
   "cell_type": "code",
   "execution_count": 30,
   "id": "690284b8-914f-4615-9f10-d64bc0a41dfe",
   "metadata": {
    "tags": [
     "skip-execution"
    ]
   },
   "outputs": [
    {
     "ename": "Exception",
     "evalue": "File `'../desp-authentication.py'` not found.",
     "output_type": "error",
     "traceback": [
      "\u001b[31m---------------------------------------------------------------------------\u001b[39m",
      "\u001b[31mOSError\u001b[39m                                   Traceback (most recent call last)",
      "\u001b[36mFile \u001b[39m\u001b[32m~/Documents/test/test/lib/python3.13/site-packages/IPython/core/magics/execution.py:728\u001b[39m, in \u001b[36mExecutionMagics.run\u001b[39m\u001b[34m(self, parameter_s, runner, file_finder)\u001b[39m\n\u001b[32m    727\u001b[39m     fpath = arg_lst[\u001b[32m0\u001b[39m]\n\u001b[32m--> \u001b[39m\u001b[32m728\u001b[39m     filename = \u001b[43mfile_finder\u001b[49m\u001b[43m(\u001b[49m\u001b[43mfpath\u001b[49m\u001b[43m)\u001b[49m\n\u001b[32m    729\u001b[39m \u001b[38;5;28;01mexcept\u001b[39;00m \u001b[38;5;167;01mIndexError\u001b[39;00m \u001b[38;5;28;01mas\u001b[39;00m e:\n",
      "\u001b[36mFile \u001b[39m\u001b[32m~/Documents/test/test/lib/python3.13/site-packages/IPython/utils/path.py:90\u001b[39m, in \u001b[36mget_py_filename\u001b[39m\u001b[34m(name)\u001b[39m\n\u001b[32m     89\u001b[39m         \u001b[38;5;28;01mreturn\u001b[39;00m py_name\n\u001b[32m---> \u001b[39m\u001b[32m90\u001b[39m \u001b[38;5;28;01mraise\u001b[39;00m \u001b[38;5;167;01mIOError\u001b[39;00m(\u001b[33m\"\u001b[39m\u001b[33mFile `\u001b[39m\u001b[38;5;132;01m%r\u001b[39;00m\u001b[33m` not found.\u001b[39m\u001b[33m\"\u001b[39m % name)\n",
      "\u001b[31mOSError\u001b[39m: File `'../desp-authentication.py'` not found.",
      "\nThe above exception was the direct cause of the following exception:\n",
      "\u001b[31mException\u001b[39m                                 Traceback (most recent call last)",
      "\u001b[36mCell\u001b[39m\u001b[36m \u001b[39m\u001b[32mIn[30]\u001b[39m\u001b[32m, line 1\u001b[39m\n\u001b[32m----> \u001b[39m\u001b[32m1\u001b[39m \u001b[43mget_ipython\u001b[49m\u001b[43m(\u001b[49m\u001b[43m)\u001b[49m\u001b[43m.\u001b[49m\u001b[43mrun_line_magic\u001b[49m\u001b[43m(\u001b[49m\u001b[33;43m'\u001b[39;49m\u001b[33;43mrun\u001b[39;49m\u001b[33;43m'\u001b[39;49m\u001b[43m,\u001b[49m\u001b[43m \u001b[49m\u001b[33;43m'\u001b[39;49m\u001b[33;43m../desp-authentication.py\u001b[39;49m\u001b[33;43m'\u001b[39;49m\u001b[43m)\u001b[49m\n",
      "\u001b[36mFile \u001b[39m\u001b[32m~/Documents/test/test/lib/python3.13/site-packages/IPython/core/interactiveshell.py:2504\u001b[39m, in \u001b[36mInteractiveShell.run_line_magic\u001b[39m\u001b[34m(self, magic_name, line, _stack_depth)\u001b[39m\n\u001b[32m   2502\u001b[39m     kwargs[\u001b[33m'\u001b[39m\u001b[33mlocal_ns\u001b[39m\u001b[33m'\u001b[39m] = \u001b[38;5;28mself\u001b[39m.get_local_scope(stack_depth)\n\u001b[32m   2503\u001b[39m \u001b[38;5;28;01mwith\u001b[39;00m \u001b[38;5;28mself\u001b[39m.builtin_trap:\n\u001b[32m-> \u001b[39m\u001b[32m2504\u001b[39m     result = \u001b[43mfn\u001b[49m\u001b[43m(\u001b[49m\u001b[43m*\u001b[49m\u001b[43margs\u001b[49m\u001b[43m,\u001b[49m\u001b[43m \u001b[49m\u001b[43m*\u001b[49m\u001b[43m*\u001b[49m\u001b[43mkwargs\u001b[49m\u001b[43m)\u001b[49m\n\u001b[32m   2506\u001b[39m \u001b[38;5;66;03m# The code below prevents the output from being displayed\u001b[39;00m\n\u001b[32m   2507\u001b[39m \u001b[38;5;66;03m# when using magics with decorator @output_can_be_silenced\u001b[39;00m\n\u001b[32m   2508\u001b[39m \u001b[38;5;66;03m# when the last Python token in the expression is a ';'.\u001b[39;00m\n\u001b[32m   2509\u001b[39m \u001b[38;5;28;01mif\u001b[39;00m \u001b[38;5;28mgetattr\u001b[39m(fn, magic.MAGIC_OUTPUT_CAN_BE_SILENCED, \u001b[38;5;28;01mFalse\u001b[39;00m):\n",
      "\u001b[36mFile \u001b[39m\u001b[32m~/Documents/test/test/lib/python3.13/site-packages/IPython/core/magics/execution.py:739\u001b[39m, in \u001b[36mExecutionMagics.run\u001b[39m\u001b[34m(self, parameter_s, runner, file_finder)\u001b[39m\n\u001b[32m    737\u001b[39m     \u001b[38;5;28;01mif\u001b[39;00m os.name == \u001b[33m'\u001b[39m\u001b[33mnt\u001b[39m\u001b[33m'\u001b[39m \u001b[38;5;129;01mand\u001b[39;00m re.match(\u001b[33mr\u001b[39m\u001b[33m\"\u001b[39m\u001b[33m^\u001b[39m\u001b[33m'\u001b[39m\u001b[33m.*\u001b[39m\u001b[33m'\u001b[39m\u001b[33m$\u001b[39m\u001b[33m\"\u001b[39m,fpath):\n\u001b[32m    738\u001b[39m         warn(\u001b[33m'\u001b[39m\u001b[33mFor Windows, use double quotes to wrap a filename: \u001b[39m\u001b[38;5;132;01m%r\u001b[39;00m\u001b[33mun \u001b[39m\u001b[33m\"\u001b[39m\u001b[33mmypath\u001b[39m\u001b[38;5;130;01m\\\\\u001b[39;00m\u001b[33mmyfile.py\u001b[39m\u001b[33m\"\u001b[39m\u001b[33m'\u001b[39m)\n\u001b[32m--> \u001b[39m\u001b[32m739\u001b[39m     \u001b[38;5;28;01mraise\u001b[39;00m \u001b[38;5;167;01mException\u001b[39;00m(msg) \u001b[38;5;28;01mfrom\u001b[39;00m\u001b[38;5;250m \u001b[39m\u001b[34;01me\u001b[39;00m\n\u001b[32m    740\u001b[39m \u001b[38;5;28;01mexcept\u001b[39;00m \u001b[38;5;167;01mTypeError\u001b[39;00m:\n\u001b[32m    741\u001b[39m     \u001b[38;5;28;01mif\u001b[39;00m fpath \u001b[38;5;129;01min\u001b[39;00m sys.meta_path:\n",
      "\u001b[31mException\u001b[39m: File `'../desp-authentication.py'` not found."
     ]
    }
   ],
   "source": [
    "%%capture cap\n",
    "%run ../desp-authentication.py"
   ]
  },
  {
   "cell_type": "markdown",
   "id": "5ac38420-9c94-464f-990a-bf8166004218",
   "metadata": {},
   "source": [
    "This will generate a token that can then be used by earthkit and polytope."
   ]
  },
  {
   "cell_type": "code",
   "execution_count": 31,
   "id": "88643e46",
   "metadata": {
    "tags": [
     "skip-execution"
    ]
   },
   "outputs": [],
   "source": [
    "output_1 = cap.stdout.split('}\\n')\n",
    "access_token = output_1[-1][0:-1]"
   ]
  },
  {
   "cell_type": "markdown",
   "id": "a44eafad-eb93-475f-9824-521473c00bb7",
   "metadata": {},
   "source": [
    "# Requirements\n",
    "To run this notebook install the following:\n",
    "* pip install earthkit-data\n",
    "* pip install earthkit-plots\n",
    "* pip install earthkit-regrid  (Optional for spectral variables)\n",
    "* pip install cf-units         (Optional for unit conversion in maps)\n",
    "\n",
    "If you do not have eccodes installed please install eccodes using conda as it is a dependency of earthkit, or install earthkit via conda\n",
    "\n",
    "* conda install eccodes -c conda-forge\n",
    "* conda install earthkit-data -c conda-forge"
   ]
  },
  {
   "cell_type": "code",
   "execution_count": 32,
   "id": "9a863405",
   "metadata": {},
   "outputs": [],
   "source": [
    "import earthkit.data\n",
    "from earthkit.plots.interactive import Chart\n",
    "from polytope.api import Client"
   ]
  },
  {
   "cell_type": "code",
   "execution_count": 33,
   "id": "b2827834-1bcf-4958-83b4-c3a6b9a70275",
   "metadata": {
    "tags": [
     "skip-execution",
     "skip-outputs"
    ]
   },
   "outputs": [
    {
     "name": "stderr",
     "output_type": "stream",
     "text": [
      "DEBUG:polytope.api.Client.Q38268:Gathered Polytope client configuration:\n",
      "{'address': 'polytope.lumi.apps.dte.destination-earth.eu',\n",
      " 'insecure': False,\n",
      " 'key_path': PosixPath('/Users/maes/.polytopeapirc'),\n",
      " 'log_file': None,\n",
      " 'log_level': 'DEBUG',\n",
      " 'password': None,\n",
      " 'port': None,\n",
      " 'quiet': False,\n",
      " 'skip_tls': False,\n",
      " 'user_email': 'alice.sartorimonteirodebarros@ecmwf.int',\n",
      " 'user_key': 'fd107a37bfb422bae0720ac8d68d0219',\n",
      " 'username': 'maes',\n",
      " 'verbose': False}\n",
      "DEBUG:polytope.api.Client.Q38268:Creating Polytope client...\n",
      "2025-07-10 11:19:08 - INFO - Sending request...\n",
      "{'request': 'activity: story-nudging\\n'\n",
      "            'class: d1\\n'\n",
      "            'dataset: climate-dt\\n'\n",
      "            'date: 20180205/to/20180220\\n'\n",
      "            'experiment: cont\\n'\n",
      "            \"expver: '0001'\\n\"\n",
      "            'feature:\\n'\n",
      "            '  points:\\n'\n",
      "            '  - - 38\\n'\n",
      "            '    - -9.5\\n'\n",
      "            '  time_axis: date\\n'\n",
      "            '  type: timeseries\\n'\n",
      "            \"generation: '1'\\n\"\n",
      "            'levtype: sfc\\n'\n",
      "            'model: ifs-fesom\\n'\n",
      "            \"param: '165'\\n\"\n",
      "            \"realization: '1'\\n\"\n",
      "            'resolution: high\\n'\n",
      "            'stream: clte\\n'\n",
      "            \"time: '0000'\\n\"\n",
      "            'type: fc\\n',\n",
      " 'verb': 'retrieve'}\n",
      "INFO:polytope.api.Client.Q38268:Sending request...\n",
      "{'request': 'activity: story-nudging\\n'\n",
      "            'class: d1\\n'\n",
      "            'dataset: climate-dt\\n'\n",
      "            'date: 20180205/to/20180220\\n'\n",
      "            'experiment: cont\\n'\n",
      "            \"expver: '0001'\\n\"\n",
      "            'feature:\\n'\n",
      "            '  points:\\n'\n",
      "            '  - - 38\\n'\n",
      "            '    - -9.5\\n'\n",
      "            '  time_axis: date\\n'\n",
      "            '  type: timeseries\\n'\n",
      "            \"generation: '1'\\n\"\n",
      "            'levtype: sfc\\n'\n",
      "            'model: ifs-fesom\\n'\n",
      "            \"param: '165'\\n\"\n",
      "            \"realization: '1'\\n\"\n",
      "            'resolution: high\\n'\n",
      "            'stream: clte\\n'\n",
      "            \"time: '0000'\\n\"\n",
      "            'type: fc\\n',\n",
      " 'verb': 'retrieve'}\n",
      "DEBUG:polytope.api.Client.Q38268:Polytope client attempting HTTP POST https://polytope.lumi.apps.dte.destination-earth.eu:443/api/v1/requests/destination-earth\n",
      "{'headers': {'Authorization': 'EmailKey alice.sartorimonteirodebarros@ecmwf.int:fd107a37bfb422bae0720ac8d68d0219'}, 'json': {'verb': 'retrieve', 'request': \"activity: story-nudging\\nclass: d1\\ndataset: climate-dt\\ndate: 20180205/to/20180220\\nexperiment: cont\\nexpver: '0001'\\nfeature:\\n  points:\\n  - - 38\\n    - -9.5\\n  time_axis: date\\n  type: timeseries\\ngeneration: '1'\\nlevtype: sfc\\nmodel: ifs-fesom\\nparam: '165'\\nrealization: '1'\\nresolution: high\\nstream: clte\\ntime: '0000'\\ntype: fc\\n\"}}\n",
      "DEBUG:urllib3.connectionpool:Starting new HTTPS connection (1): polytope.lumi.apps.dte.destination-earth.eu:443\n",
      "DEBUG:urllib3.connectionpool:https://polytope.lumi.apps.dte.destination-earth.eu:443 \"POST /api/v1/requests/destination-earth HTTP/1.1\" 202 49\n",
      "DEBUG:polytope.api.Client.Q38268:Polytope client received HTTP SUCCESS (202)\n",
      "2025-07-10 11:19:09 - INFO - Request accepted. Please poll ./0c658bcb-e1c3-4ac8-9dcf-29dffde55645 for status\n",
      "INFO:polytope.api.Client.Q38268:Request accepted. Please poll ./0c658bcb-e1c3-4ac8-9dcf-29dffde55645 for status\n",
      "DEBUG:polytope.api.Client.Q38268:Server message: Request queued\n",
      "2025-07-10 11:19:09 - INFO - Checking request status (0c658bcb-e1c3-4ac8-9dcf-29dffde55645)...\n",
      "INFO:polytope.api.Client.Q38268:Checking request status (0c658bcb-e1c3-4ac8-9dcf-29dffde55645)...\n",
      "DEBUG:polytope.api.Client.Q38268:Polytope client attempting HTTP GET https://polytope.lumi.apps.dte.destination-earth.eu:443/api/v1/requests/0c658bcb-e1c3-4ac8-9dcf-29dffde55645\n",
      "{'headers': {'Authorization': 'EmailKey alice.sartorimonteirodebarros@ecmwf.int:fd107a37bfb422bae0720ac8d68d0219'}, 'json': None}\n",
      "DEBUG:urllib3.connectionpool:Starting new HTTPS connection (1): polytope.lumi.apps.dte.destination-earth.eu:443\n",
      "DEBUG:urllib3.connectionpool:https://polytope.lumi.apps.dte.destination-earth.eu:443 \"GET /api/v1/requests/0c658bcb-e1c3-4ac8-9dcf-29dffde55645 HTTP/1.1\" 202 49\n",
      "DEBUG:polytope.api.Client.Q38268:Polytope client received HTTP SUCCESS (202)\n",
      "2025-07-10 11:19:10 - INFO - The current status of the request is 'queued'\n",
      "INFO:polytope.api.Client.Q38268:The current status of the request is 'queued'\n",
      "DEBUG:polytope.api.Client.Q38268:Server message: Request queued\n",
      "DEBUG:polytope.api.Client.Q38268:Polytope client attempting HTTP GET https://polytope.lumi.apps.dte.destination-earth.eu:443/api/v1/requests/0c658bcb-e1c3-4ac8-9dcf-29dffde55645\n",
      "{'headers': {'Authorization': 'EmailKey alice.sartorimonteirodebarros@ecmwf.int:fd107a37bfb422bae0720ac8d68d0219'}, 'json': None}\n",
      "DEBUG:urllib3.connectionpool:https://polytope.lumi.apps.dte.destination-earth.eu:443 \"GET /api/v1/requests/0c658bcb-e1c3-4ac8-9dcf-29dffde55645 HTTP/1.1\" 202 49\n",
      "DEBUG:polytope.api.Client.Q38268:Polytope client received HTTP SUCCESS (202)\n",
      "DEBUG:polytope.api.Client.Q38268:Polytope client attempting HTTP GET https://polytope.lumi.apps.dte.destination-earth.eu:443/api/v1/requests/0c658bcb-e1c3-4ac8-9dcf-29dffde55645\n",
      "{'headers': {'Authorization': 'EmailKey alice.sartorimonteirodebarros@ecmwf.int:fd107a37bfb422bae0720ac8d68d0219'}, 'json': None}\n",
      "DEBUG:urllib3.connectionpool:https://polytope.lumi.apps.dte.destination-earth.eu:443 \"GET /api/v1/requests/0c658bcb-e1c3-4ac8-9dcf-29dffde55645 HTTP/1.1\" 202 49\n",
      "DEBUG:polytope.api.Client.Q38268:Polytope client received HTTP SUCCESS (202)\n",
      "DEBUG:polytope.api.Client.Q38268:Polytope client attempting HTTP GET https://polytope.lumi.apps.dte.destination-earth.eu:443/api/v1/requests/0c658bcb-e1c3-4ac8-9dcf-29dffde55645\n",
      "{'headers': {'Authorization': 'EmailKey alice.sartorimonteirodebarros@ecmwf.int:fd107a37bfb422bae0720ac8d68d0219'}, 'json': None}\n",
      "DEBUG:urllib3.connectionpool:https://polytope.lumi.apps.dte.destination-earth.eu:443 \"GET /api/v1/requests/0c658bcb-e1c3-4ac8-9dcf-29dffde55645 HTTP/1.1\" 202 49\n",
      "DEBUG:polytope.api.Client.Q38268:Polytope client received HTTP SUCCESS (202)\n",
      "DEBUG:polytope.api.Client.Q38268:Polytope client attempting HTTP GET https://polytope.lumi.apps.dte.destination-earth.eu:443/api/v1/requests/0c658bcb-e1c3-4ac8-9dcf-29dffde55645\n",
      "{'headers': {'Authorization': 'EmailKey alice.sartorimonteirodebarros@ecmwf.int:fd107a37bfb422bae0720ac8d68d0219'}, 'json': None}\n",
      "DEBUG:urllib3.connectionpool:https://polytope.lumi.apps.dte.destination-earth.eu:443 \"GET /api/v1/requests/0c658bcb-e1c3-4ac8-9dcf-29dffde55645 HTTP/1.1\" 202 49\n",
      "DEBUG:polytope.api.Client.Q38268:Polytope client received HTTP SUCCESS (202)\n",
      "DEBUG:polytope.api.Client.Q38268:Polytope client attempting HTTP GET https://polytope.lumi.apps.dte.destination-earth.eu:443/api/v1/requests/0c658bcb-e1c3-4ac8-9dcf-29dffde55645\n",
      "{'headers': {'Authorization': 'EmailKey alice.sartorimonteirodebarros@ecmwf.int:fd107a37bfb422bae0720ac8d68d0219'}, 'json': None}\n",
      "DEBUG:urllib3.connectionpool:https://polytope.lumi.apps.dte.destination-earth.eu:443 \"GET /api/v1/requests/0c658bcb-e1c3-4ac8-9dcf-29dffde55645 HTTP/1.1\" 202 49\n",
      "DEBUG:polytope.api.Client.Q38268:Polytope client received HTTP SUCCESS (202)\n",
      "DEBUG:polytope.api.Client.Q38268:Polytope client attempting HTTP GET https://polytope.lumi.apps.dte.destination-earth.eu:443/api/v1/requests/0c658bcb-e1c3-4ac8-9dcf-29dffde55645\n",
      "{'headers': {'Authorization': 'EmailKey alice.sartorimonteirodebarros@ecmwf.int:fd107a37bfb422bae0720ac8d68d0219'}, 'json': None}\n",
      "DEBUG:urllib3.connectionpool:https://polytope.lumi.apps.dte.destination-earth.eu:443 \"GET /api/v1/requests/0c658bcb-e1c3-4ac8-9dcf-29dffde55645 HTTP/1.1\" 202 49\n",
      "DEBUG:polytope.api.Client.Q38268:Polytope client received HTTP SUCCESS (202)\n",
      "DEBUG:polytope.api.Client.Q38268:Polytope client attempting HTTP GET https://polytope.lumi.apps.dte.destination-earth.eu:443/api/v1/requests/0c658bcb-e1c3-4ac8-9dcf-29dffde55645\n",
      "{'headers': {'Authorization': 'EmailKey alice.sartorimonteirodebarros@ecmwf.int:fd107a37bfb422bae0720ac8d68d0219'}, 'json': None}\n",
      "DEBUG:urllib3.connectionpool:https://polytope.lumi.apps.dte.destination-earth.eu:443 \"GET /api/v1/requests/0c658bcb-e1c3-4ac8-9dcf-29dffde55645 HTTP/1.1\" 202 49\n",
      "DEBUG:polytope.api.Client.Q38268:Polytope client received HTTP SUCCESS (202)\n",
      "DEBUG:polytope.api.Client.Q38268:Polytope client attempting HTTP GET https://polytope.lumi.apps.dte.destination-earth.eu:443/api/v1/requests/0c658bcb-e1c3-4ac8-9dcf-29dffde55645\n",
      "{'headers': {'Authorization': 'EmailKey alice.sartorimonteirodebarros@ecmwf.int:fd107a37bfb422bae0720ac8d68d0219'}, 'json': None}\n",
      "DEBUG:urllib3.connectionpool:https://polytope.lumi.apps.dte.destination-earth.eu:443 \"GET /api/v1/requests/0c658bcb-e1c3-4ac8-9dcf-29dffde55645 HTTP/1.1\" 202 49\n",
      "DEBUG:polytope.api.Client.Q38268:Polytope client received HTTP SUCCESS (202)\n",
      "DEBUG:polytope.api.Client.Q38268:Polytope client attempting HTTP GET https://polytope.lumi.apps.dte.destination-earth.eu:443/api/v1/requests/0c658bcb-e1c3-4ac8-9dcf-29dffde55645\n",
      "{'headers': {'Authorization': 'EmailKey alice.sartorimonteirodebarros@ecmwf.int:fd107a37bfb422bae0720ac8d68d0219'}, 'json': None}\n",
      "DEBUG:urllib3.connectionpool:https://polytope.lumi.apps.dte.destination-earth.eu:443 \"GET /api/v1/requests/0c658bcb-e1c3-4ac8-9dcf-29dffde55645 HTTP/1.1\" 202 49\n",
      "DEBUG:polytope.api.Client.Q38268:Polytope client received HTTP SUCCESS (202)\n",
      "DEBUG:polytope.api.Client.Q38268:Polytope client attempting HTTP GET https://polytope.lumi.apps.dte.destination-earth.eu:443/api/v1/requests/0c658bcb-e1c3-4ac8-9dcf-29dffde55645\n",
      "{'headers': {'Authorization': 'EmailKey alice.sartorimonteirodebarros@ecmwf.int:fd107a37bfb422bae0720ac8d68d0219'}, 'json': None}\n",
      "DEBUG:urllib3.connectionpool:https://polytope.lumi.apps.dte.destination-earth.eu:443 \"GET /api/v1/requests/0c658bcb-e1c3-4ac8-9dcf-29dffde55645 HTTP/1.1\" 202 49\n",
      "DEBUG:polytope.api.Client.Q38268:Polytope client received HTTP SUCCESS (202)\n",
      "DEBUG:polytope.api.Client.Q38268:Polytope client attempting HTTP GET https://polytope.lumi.apps.dte.destination-earth.eu:443/api/v1/requests/0c658bcb-e1c3-4ac8-9dcf-29dffde55645\n",
      "{'headers': {'Authorization': 'EmailKey alice.sartorimonteirodebarros@ecmwf.int:fd107a37bfb422bae0720ac8d68d0219'}, 'json': None}\n",
      "DEBUG:urllib3.connectionpool:https://polytope.lumi.apps.dte.destination-earth.eu:443 \"GET /api/v1/requests/0c658bcb-e1c3-4ac8-9dcf-29dffde55645 HTTP/1.1\" 202 49\n",
      "DEBUG:polytope.api.Client.Q38268:Polytope client received HTTP SUCCESS (202)\n",
      "DEBUG:polytope.api.Client.Q38268:Polytope client attempting HTTP GET https://polytope.lumi.apps.dte.destination-earth.eu:443/api/v1/requests/0c658bcb-e1c3-4ac8-9dcf-29dffde55645\n",
      "{'headers': {'Authorization': 'EmailKey alice.sartorimonteirodebarros@ecmwf.int:fd107a37bfb422bae0720ac8d68d0219'}, 'json': None}\n",
      "DEBUG:urllib3.connectionpool:https://polytope.lumi.apps.dte.destination-earth.eu:443 \"GET /api/v1/requests/0c658bcb-e1c3-4ac8-9dcf-29dffde55645 HTTP/1.1\" 202 49\n",
      "DEBUG:polytope.api.Client.Q38268:Polytope client received HTTP SUCCESS (202)\n",
      "DEBUG:polytope.api.Client.Q38268:Polytope client attempting HTTP GET https://polytope.lumi.apps.dte.destination-earth.eu:443/api/v1/requests/0c658bcb-e1c3-4ac8-9dcf-29dffde55645\n",
      "{'headers': {'Authorization': 'EmailKey alice.sartorimonteirodebarros@ecmwf.int:fd107a37bfb422bae0720ac8d68d0219'}, 'json': None}\n",
      "DEBUG:urllib3.connectionpool:https://polytope.lumi.apps.dte.destination-earth.eu:443 \"GET /api/v1/requests/0c658bcb-e1c3-4ac8-9dcf-29dffde55645 HTTP/1.1\" 202 49\n",
      "DEBUG:polytope.api.Client.Q38268:Polytope client received HTTP SUCCESS (202)\n",
      "DEBUG:polytope.api.Client.Q38268:Polytope client attempting HTTP GET https://polytope.lumi.apps.dte.destination-earth.eu:443/api/v1/requests/0c658bcb-e1c3-4ac8-9dcf-29dffde55645\n",
      "{'headers': {'Authorization': 'EmailKey alice.sartorimonteirodebarros@ecmwf.int:fd107a37bfb422bae0720ac8d68d0219'}, 'json': None}\n",
      "DEBUG:urllib3.connectionpool:https://polytope.lumi.apps.dte.destination-earth.eu:443 \"GET /api/v1/requests/0c658bcb-e1c3-4ac8-9dcf-29dffde55645 HTTP/1.1\" 202 49\n",
      "DEBUG:polytope.api.Client.Q38268:Polytope client received HTTP SUCCESS (202)\n",
      "DEBUG:polytope.api.Client.Q38268:Polytope client attempting HTTP GET https://polytope.lumi.apps.dte.destination-earth.eu:443/api/v1/requests/0c658bcb-e1c3-4ac8-9dcf-29dffde55645\n",
      "{'headers': {'Authorization': 'EmailKey alice.sartorimonteirodebarros@ecmwf.int:fd107a37bfb422bae0720ac8d68d0219'}, 'json': None}\n",
      "DEBUG:urllib3.connectionpool:https://polytope.lumi.apps.dte.destination-earth.eu:443 \"GET /api/v1/requests/0c658bcb-e1c3-4ac8-9dcf-29dffde55645 HTTP/1.1\" 202 49\n",
      "DEBUG:polytope.api.Client.Q38268:Polytope client received HTTP SUCCESS (202)\n",
      "DEBUG:polytope.api.Client.Q38268:Polytope client attempting HTTP GET https://polytope.lumi.apps.dte.destination-earth.eu:443/api/v1/requests/0c658bcb-e1c3-4ac8-9dcf-29dffde55645\n",
      "{'headers': {'Authorization': 'EmailKey alice.sartorimonteirodebarros@ecmwf.int:fd107a37bfb422bae0720ac8d68d0219'}, 'json': None}\n",
      "DEBUG:urllib3.connectionpool:https://polytope.lumi.apps.dte.destination-earth.eu:443 \"GET /api/v1/requests/0c658bcb-e1c3-4ac8-9dcf-29dffde55645 HTTP/1.1\" 202 49\n",
      "DEBUG:polytope.api.Client.Q38268:Polytope client received HTTP SUCCESS (202)\n",
      "DEBUG:polytope.api.Client.Q38268:Polytope client attempting HTTP GET https://polytope.lumi.apps.dte.destination-earth.eu:443/api/v1/requests/0c658bcb-e1c3-4ac8-9dcf-29dffde55645\n",
      "{'headers': {'Authorization': 'EmailKey alice.sartorimonteirodebarros@ecmwf.int:fd107a37bfb422bae0720ac8d68d0219'}, 'json': None}\n",
      "DEBUG:urllib3.connectionpool:https://polytope.lumi.apps.dte.destination-earth.eu:443 \"GET /api/v1/requests/0c658bcb-e1c3-4ac8-9dcf-29dffde55645 HTTP/1.1\" 202 49\n",
      "DEBUG:polytope.api.Client.Q38268:Polytope client received HTTP SUCCESS (202)\n",
      "DEBUG:polytope.api.Client.Q38268:Polytope client attempting HTTP GET https://polytope.lumi.apps.dte.destination-earth.eu:443/api/v1/requests/0c658bcb-e1c3-4ac8-9dcf-29dffde55645\n",
      "{'headers': {'Authorization': 'EmailKey alice.sartorimonteirodebarros@ecmwf.int:fd107a37bfb422bae0720ac8d68d0219'}, 'json': None}\n",
      "DEBUG:urllib3.connectionpool:https://polytope.lumi.apps.dte.destination-earth.eu:443 \"GET /api/v1/requests/0c658bcb-e1c3-4ac8-9dcf-29dffde55645 HTTP/1.1\" 202 49\n",
      "DEBUG:polytope.api.Client.Q38268:Polytope client received HTTP SUCCESS (202)\n",
      "DEBUG:polytope.api.Client.Q38268:Polytope client attempting HTTP GET https://polytope.lumi.apps.dte.destination-earth.eu:443/api/v1/requests/0c658bcb-e1c3-4ac8-9dcf-29dffde55645\n",
      "{'headers': {'Authorization': 'EmailKey alice.sartorimonteirodebarros@ecmwf.int:fd107a37bfb422bae0720ac8d68d0219'}, 'json': None}\n",
      "DEBUG:urllib3.connectionpool:https://polytope.lumi.apps.dte.destination-earth.eu:443 \"GET /api/v1/requests/0c658bcb-e1c3-4ac8-9dcf-29dffde55645 HTTP/1.1\" 202 49\n",
      "DEBUG:polytope.api.Client.Q38268:Polytope client received HTTP SUCCESS (202)\n",
      "DEBUG:polytope.api.Client.Q38268:Polytope client attempting HTTP GET https://polytope.lumi.apps.dte.destination-earth.eu:443/api/v1/requests/0c658bcb-e1c3-4ac8-9dcf-29dffde55645\n",
      "{'headers': {'Authorization': 'EmailKey alice.sartorimonteirodebarros@ecmwf.int:fd107a37bfb422bae0720ac8d68d0219'}, 'json': None}\n",
      "DEBUG:urllib3.connectionpool:https://polytope.lumi.apps.dte.destination-earth.eu:443 \"GET /api/v1/requests/0c658bcb-e1c3-4ac8-9dcf-29dffde55645 HTTP/1.1\" 202 57\n",
      "DEBUG:polytope.api.Client.Q38268:Polytope client received HTTP SUCCESS (202)\n",
      "2025-07-10 11:19:17 - INFO - The current status of the request is 'processing'\n",
      "INFO:polytope.api.Client.Q38268:The current status of the request is 'processing'\n",
      "DEBUG:polytope.api.Client.Q38268:Server message: Request processing\n",
      "DEBUG:polytope.api.Client.Q38268:Polytope client attempting HTTP GET https://polytope.lumi.apps.dte.destination-earth.eu:443/api/v1/requests/0c658bcb-e1c3-4ac8-9dcf-29dffde55645\n",
      "{'headers': {'Authorization': 'EmailKey alice.sartorimonteirodebarros@ecmwf.int:fd107a37bfb422bae0720ac8d68d0219'}, 'json': None}\n",
      "DEBUG:urllib3.connectionpool:https://polytope.lumi.apps.dte.destination-earth.eu:443 \"GET /api/v1/requests/0c658bcb-e1c3-4ac8-9dcf-29dffde55645 HTTP/1.1\" 202 57\n",
      "DEBUG:polytope.api.Client.Q38268:Polytope client received HTTP SUCCESS (202)\n",
      "DEBUG:polytope.api.Client.Q38268:Polytope client attempting HTTP GET https://polytope.lumi.apps.dte.destination-earth.eu:443/api/v1/requests/0c658bcb-e1c3-4ac8-9dcf-29dffde55645\n",
      "{'headers': {'Authorization': 'EmailKey alice.sartorimonteirodebarros@ecmwf.int:fd107a37bfb422bae0720ac8d68d0219'}, 'json': None}\n",
      "DEBUG:urllib3.connectionpool:https://polytope.lumi.apps.dte.destination-earth.eu:443 \"GET /api/v1/requests/0c658bcb-e1c3-4ac8-9dcf-29dffde55645 HTTP/1.1\" 202 57\n",
      "DEBUG:polytope.api.Client.Q38268:Polytope client received HTTP SUCCESS (202)\n",
      "DEBUG:polytope.api.Client.Q38268:Polytope client attempting HTTP GET https://polytope.lumi.apps.dte.destination-earth.eu:443/api/v1/requests/0c658bcb-e1c3-4ac8-9dcf-29dffde55645\n",
      "{'headers': {'Authorization': 'EmailKey alice.sartorimonteirodebarros@ecmwf.int:fd107a37bfb422bae0720ac8d68d0219'}, 'json': None}\n",
      "DEBUG:urllib3.connectionpool:https://polytope.lumi.apps.dte.destination-earth.eu:443 \"GET /api/v1/requests/0c658bcb-e1c3-4ac8-9dcf-29dffde55645 HTTP/1.1\" 202 57\n",
      "DEBUG:polytope.api.Client.Q38268:Polytope client received HTTP SUCCESS (202)\n",
      "DEBUG:polytope.api.Client.Q38268:Polytope client attempting HTTP GET https://polytope.lumi.apps.dte.destination-earth.eu:443/api/v1/requests/0c658bcb-e1c3-4ac8-9dcf-29dffde55645\n",
      "{'headers': {'Authorization': 'EmailKey alice.sartorimonteirodebarros@ecmwf.int:fd107a37bfb422bae0720ac8d68d0219'}, 'json': None}\n",
      "DEBUG:urllib3.connectionpool:https://polytope.lumi.apps.dte.destination-earth.eu:443 \"GET /api/v1/requests/0c658bcb-e1c3-4ac8-9dcf-29dffde55645 HTTP/1.1\" 202 57\n",
      "DEBUG:polytope.api.Client.Q38268:Polytope client received HTTP SUCCESS (202)\n",
      "DEBUG:polytope.api.Client.Q38268:Polytope client attempting HTTP GET https://polytope.lumi.apps.dte.destination-earth.eu:443/api/v1/requests/0c658bcb-e1c3-4ac8-9dcf-29dffde55645\n",
      "{'headers': {'Authorization': 'EmailKey alice.sartorimonteirodebarros@ecmwf.int:fd107a37bfb422bae0720ac8d68d0219'}, 'json': None}\n",
      "DEBUG:urllib3.connectionpool:https://polytope.lumi.apps.dte.destination-earth.eu:443 \"GET /api/v1/requests/0c658bcb-e1c3-4ac8-9dcf-29dffde55645 HTTP/1.1\" 202 57\n",
      "DEBUG:polytope.api.Client.Q38268:Polytope client received HTTP SUCCESS (202)\n",
      "DEBUG:polytope.api.Client.Q38268:Polytope client attempting HTTP GET https://polytope.lumi.apps.dte.destination-earth.eu:443/api/v1/requests/0c658bcb-e1c3-4ac8-9dcf-29dffde55645\n",
      "{'headers': {'Authorization': 'EmailKey alice.sartorimonteirodebarros@ecmwf.int:fd107a37bfb422bae0720ac8d68d0219'}, 'json': None}\n",
      "DEBUG:urllib3.connectionpool:https://polytope.lumi.apps.dte.destination-earth.eu:443 \"GET /api/v1/requests/0c658bcb-e1c3-4ac8-9dcf-29dffde55645 HTTP/1.1\" 202 57\n",
      "DEBUG:polytope.api.Client.Q38268:Polytope client received HTTP SUCCESS (202)\n",
      "DEBUG:polytope.api.Client.Q38268:Polytope client attempting HTTP GET https://polytope.lumi.apps.dte.destination-earth.eu:443/api/v1/requests/0c658bcb-e1c3-4ac8-9dcf-29dffde55645\n",
      "{'headers': {'Authorization': 'EmailKey alice.sartorimonteirodebarros@ecmwf.int:fd107a37bfb422bae0720ac8d68d0219'}, 'json': None}\n",
      "DEBUG:urllib3.connectionpool:https://polytope.lumi.apps.dte.destination-earth.eu:443 \"GET /api/v1/requests/0c658bcb-e1c3-4ac8-9dcf-29dffde55645 HTTP/1.1\" 202 57\n",
      "DEBUG:polytope.api.Client.Q38268:Polytope client received HTTP SUCCESS (202)\n",
      "DEBUG:polytope.api.Client.Q38268:Polytope client attempting HTTP GET https://polytope.lumi.apps.dte.destination-earth.eu:443/api/v1/requests/0c658bcb-e1c3-4ac8-9dcf-29dffde55645\n",
      "{'headers': {'Authorization': 'EmailKey alice.sartorimonteirodebarros@ecmwf.int:fd107a37bfb422bae0720ac8d68d0219'}, 'json': None}\n",
      "DEBUG:urllib3.connectionpool:https://polytope.lumi.apps.dte.destination-earth.eu:443 \"GET /api/v1/requests/0c658bcb-e1c3-4ac8-9dcf-29dffde55645 HTTP/1.1\" 303 200\n",
      "DEBUG:urllib3.connectionpool:Starting new HTTPS connection (1): download-polytope.lumi.apps.dte.destination-earth.eu:443\n",
      "DEBUG:urllib3.connectionpool:https://download-polytope.lumi.apps.dte.destination-earth.eu:443 \"GET /default/0c658bcb-e1c3-4ac8-9dcf-29dffde55645.covjson HTTP/1.1\" 200 2320\n",
      "DEBUG:polytope.api.Client.Q38268:Polytope client received HTTP SUCCESS (200)\n",
      "2025-07-10 11:19:21 - INFO - The current status of the request is 'processed'\n",
      "INFO:polytope.api.Client.Q38268:The current status of the request is 'processed'\n",
      "2025-07-10 11:19:21 - INFO - Starting data download (application/prs.coverage+json)...\n",
      "INFO:polytope.api.Client.Q38268:Starting data download (application/prs.coverage+json)...\n",
      "2025-07-10 11:19:21 - INFO - Saving data into /Users/maes/Documents/test/climate-dt/data/climate-dt-earthkit-fe-story-nudging.grib...\n",
      "INFO:polytope.api.Client.Q38268:Saving data into /Users/maes/Documents/test/climate-dt/data/climate-dt-earthkit-fe-story-nudging.grib...\n",
      "2025-07-10 11:19:21 - INFO - Data downloaded successfully\n",
      "INFO:polytope.api.Client.Q38268:Data downloaded successfully\n",
      "2025-07-10 11:19:21 - INFO - Download rate 359.6KiB/s\n",
      "INFO:polytope.api.Client.Q38268:Download rate 359.6KiB/s\n",
      "2025-07-10 11:19:21 - INFO - Data saved successfully into /Users/maes/Documents/test/climate-dt/data/climate-dt-earthkit-fe-story-nudging.grib\n",
      "INFO:polytope.api.Client.Q38268:Data saved successfully into /Users/maes/Documents/test/climate-dt/data/climate-dt-earthkit-fe-story-nudging.grib\n"
     ]
    }
   ],
   "source": [
    "client = Client(\n",
    "    address=\"polytope.lumi.apps.dte.destination-earth.eu\")\n",
    "\n",
    "request = {\n",
    "     \"activity\": \"story-nudging\",\n",
    "     \"class\": \"d1\",\n",
    "     \"dataset\": \"climate-dt\",\n",
    "     \"experiment\": \"cont\",\n",
    "     \"generation\": \"1\",\n",
    "     \"levtype\": \"sfc\",\n",
    "     \"date\": \"20180205/to/20180220\",\n",
    "     \"model\": \"ifs-fesom\",\n",
    "     \"expver\": \"0001\",\n",
    "     \"param\": \"165\",\n",
    "     \"realization\": \"1\",\n",
    "     \"resolution\": \"high\",\n",
    "     \"stream\": \"clte\",\n",
    "     \"type\": \"fc\",\n",
    "     \"time\": \"0000\",\n",
    "     \"feature\": {\n",
    "         \"type\": \"timeseries\",\n",
    "         \"points\": [[38, -9.5]],\n",
    "         \"time_axis\": \"date\",\n",
    "     }\n",
    " }\n",
    "\n",
    "file = client.retrieve(\"destination-earth\", request, \"data/climate-dt-earthkit-fe-story-nudging.grib\") "
   ]
  },
  {
   "cell_type": "code",
   "execution_count": 34,
   "id": "0a1af083",
   "metadata": {},
   "outputs": [],
   "source": [
    "data = earthkit.data.from_source(\"file\", \"data/climate-dt-earthkit-fe-story-nudging.grib\") "
   ]
  },
  {
   "cell_type": "code",
   "execution_count": 35,
   "id": "0c76470c-e897-4747-a56d-c7c786676b52",
   "metadata": {},
   "outputs": [
    {
     "data": {
      "text/plain": [
       "{'type': 'CoverageCollection',\n",
       " 'domainType': 'PointSeries',\n",
       " 'coverages': [{'mars:metadata': {'activity': 'story-nudging',\n",
       "    'class': 'd1',\n",
       "    'dataset': 'climate-dt',\n",
       "    'experiment': 'cont',\n",
       "    'expver': '0001',\n",
       "    'generation': '1',\n",
       "    'levtype': 'sfc',\n",
       "    'model': 'ifs-fesom',\n",
       "    'realization': '1',\n",
       "    'resolution': 'high',\n",
       "    'stream': 'clte',\n",
       "    'type': 'fc',\n",
       "    'number': 0,\n",
       "    'Forecast date': '2018-02-20 00:00:00Z'},\n",
       "   'type': 'Coverage',\n",
       "   'domain': {'type': 'Domain',\n",
       "    'axes': {'x': {'values': [38.016284446058]},\n",
       "     'y': {'values': [350.5078125]},\n",
       "     'z': {'values': [0]},\n",
       "     't': {'values': ['2018-02-05 00:00:00Z',\n",
       "       '2018-02-06 00:00:00Z',\n",
       "       '2018-02-07 00:00:00Z',\n",
       "       '2018-02-08 00:00:00Z',\n",
       "       '2018-02-09 00:00:00Z',\n",
       "       '2018-02-10 00:00:00Z',\n",
       "       '2018-02-11 00:00:00Z',\n",
       "       '2018-02-12 00:00:00Z',\n",
       "       '2018-02-13 00:00:00Z',\n",
       "       '2018-02-14 00:00:00Z',\n",
       "       '2018-02-15 00:00:00Z',\n",
       "       '2018-02-16 00:00:00Z',\n",
       "       '2018-02-17 00:00:00Z',\n",
       "       '2018-02-18 00:00:00Z',\n",
       "       '2018-02-19 00:00:00Z',\n",
       "       '2018-02-20 00:00:00Z']}}},\n",
       "   'ranges': {'10u': {'type': 'NdArray',\n",
       "     'dataType': 'float',\n",
       "     'shape': [16],\n",
       "     'axisNames': ['10u'],\n",
       "     'values': [-1.0349750518798828,\n",
       "      -1.3101329803466797,\n",
       "      -3.7172813415527344,\n",
       "      -7.020038604736328,\n",
       "      0.06177711486816406,\n",
       "      -1.0358867645263672,\n",
       "      -1.3459739685058594,\n",
       "      8.125490188598633,\n",
       "      2.327951431274414,\n",
       "      5.282482147216797,\n",
       "      3.2992591857910156,\n",
       "      2.3224658966064453,\n",
       "      2.5656280517578125,\n",
       "      -1.331939697265625,\n",
       "      -3.4963855743408203,\n",
       "      -1.722890853881836]}}}],\n",
       " 'referencing': [{'coordinates': ['x', 'y', 'z'],\n",
       "   'system': {'type': 'GeographicCRS',\n",
       "    'id': 'http://www.opengis.net/def/crs/OGC/1.3/CRS84'}}],\n",
       " 'parameters': {'10u': {'type': 'Parameter',\n",
       "   'description': {'en': 'This parameter is the eastward component of the 10m wind. It is the horizontal speed of air moving towards the east, at a height of ten metres above the surface of the Earth, in metres per second.<br/><br/>Care should be taken when comparing this parameter with observations, because wind observations vary on small space and time scales and are affected by the local terrain, vegetation and buildings that are represented only on average in the ECMWF Integrated Forecasting System.<br/><br/>This parameter can be combined with the V component of 10m wind to give the speed and direction of the horizontal 10m wind.'},\n",
       "   'unit': {'symbol': 'm s**-1'},\n",
       "   'observedProperty': {'id': '10u',\n",
       "    'label': {'en': '10 metre U wind component'}}}}}"
      ]
     },
     "execution_count": 35,
     "metadata": {},
     "output_type": "execute_result"
    }
   ],
   "source": [
    "data._json()"
   ]
  },
  {
   "cell_type": "code",
   "execution_count": 36,
   "id": "670486d6",
   "metadata": {},
   "outputs": [],
   "source": [
    "def location_to_string(location):\n",
    "    \"\"\"\n",
    "    Converts latitude and longitude to a string representation with degrees\n",
    "    and N/S/E/W.\n",
    "    \"\"\"\n",
    "    (lat, lon) = location\n",
    "    lat_dir = \"N\" if lat >= 0 else \"S\"\n",
    "    lon_dir = \"E\" if lon >= 0 else \"W\"\n",
    "    return f\"{abs(lat):.2f}°{lat_dir}, {abs(lon):.2f}°{lon_dir}\""
   ]
  },
  {
   "cell_type": "code",
   "execution_count": 37,
   "id": "411d84fc",
   "metadata": {
    "tags": [
     "skip-text-html"
    ]
   },
   "outputs": [
    {
     "data": {
      "text/html": [
       "<div><svg style=\"position: absolute; width: 0; height: 0; overflow: hidden\">\n",
       "<defs>\n",
       "<symbol id=\"icon-database\" viewBox=\"0 0 32 32\">\n",
       "<path d=\"M16 0c-8.837 0-16 2.239-16 5v4c0 2.761 7.163 5 16 5s16-2.239 16-5v-4c0-2.761-7.163-5-16-5z\"></path>\n",
       "<path d=\"M16 17c-8.837 0-16-2.239-16-5v6c0 2.761 7.163 5 16 5s16-2.239 16-5v-6c0 2.761-7.163 5-16 5z\"></path>\n",
       "<path d=\"M16 26c-8.837 0-16-2.239-16-5v6c0 2.761 7.163 5 16 5s16-2.239 16-5v-6c0 2.761-7.163 5-16 5z\"></path>\n",
       "</symbol>\n",
       "<symbol id=\"icon-file-text2\" viewBox=\"0 0 32 32\">\n",
       "<path d=\"M28.681 7.159c-0.694-0.947-1.662-2.053-2.724-3.116s-2.169-2.030-3.116-2.724c-1.612-1.182-2.393-1.319-2.841-1.319h-15.5c-1.378 0-2.5 1.121-2.5 2.5v27c0 1.378 1.122 2.5 2.5 2.5h23c1.378 0 2.5-1.122 2.5-2.5v-19.5c0-0.448-0.137-1.23-1.319-2.841zM24.543 5.457c0.959 0.959 1.712 1.825 2.268 2.543h-4.811v-4.811c0.718 0.556 1.584 1.309 2.543 2.268zM28 29.5c0 0.271-0.229 0.5-0.5 0.5h-23c-0.271 0-0.5-0.229-0.5-0.5v-27c0-0.271 0.229-0.5 0.5-0.5 0 0 15.499-0 15.5 0v7c0 0.552 0.448 1 1 1h7v19.5z\"></path>\n",
       "<path d=\"M23 26h-14c-0.552 0-1-0.448-1-1s0.448-1 1-1h14c0.552 0 1 0.448 1 1s-0.448 1-1 1z\"></path>\n",
       "<path d=\"M23 22h-14c-0.552 0-1-0.448-1-1s0.448-1 1-1h14c0.552 0 1 0.448 1 1s-0.448 1-1 1z\"></path>\n",
       "<path d=\"M23 18h-14c-0.552 0-1-0.448-1-1s0.448-1 1-1h14c0.552 0 1 0.448 1 1s-0.448 1-1 1z\"></path>\n",
       "</symbol>\n",
       "</defs>\n",
       "</svg>\n",
       "<style>/* CSS stylesheet for displaying xarray objects in jupyterlab.\n",
       " *\n",
       " */\n",
       "\n",
       ":root {\n",
       "  --xr-font-color0: var(\n",
       "    --jp-content-font-color0,\n",
       "    var(--pst-color-text-base rgba(0, 0, 0, 1))\n",
       "  );\n",
       "  --xr-font-color2: var(\n",
       "    --jp-content-font-color2,\n",
       "    var(--pst-color-text-base, rgba(0, 0, 0, 0.54))\n",
       "  );\n",
       "  --xr-font-color3: var(\n",
       "    --jp-content-font-color3,\n",
       "    var(--pst-color-text-base, rgba(0, 0, 0, 0.38))\n",
       "  );\n",
       "  --xr-border-color: var(\n",
       "    --jp-border-color2,\n",
       "    hsl(from var(--pst-color-on-background, white) h s calc(l - 10))\n",
       "  );\n",
       "  --xr-disabled-color: var(\n",
       "    --jp-layout-color3,\n",
       "    hsl(from var(--pst-color-on-background, white) h s calc(l - 40))\n",
       "  );\n",
       "  --xr-background-color: var(\n",
       "    --jp-layout-color0,\n",
       "    var(--pst-color-on-background, white)\n",
       "  );\n",
       "  --xr-background-color-row-even: var(\n",
       "    --jp-layout-color1,\n",
       "    hsl(from var(--pst-color-on-background, white) h s calc(l - 5))\n",
       "  );\n",
       "  --xr-background-color-row-odd: var(\n",
       "    --jp-layout-color2,\n",
       "    hsl(from var(--pst-color-on-background, white) h s calc(l - 15))\n",
       "  );\n",
       "}\n",
       "\n",
       "html[theme=\"dark\"],\n",
       "html[data-theme=\"dark\"],\n",
       "body[data-theme=\"dark\"],\n",
       "body.vscode-dark {\n",
       "  --xr-font-color0: var(\n",
       "    --jp-content-font-color0,\n",
       "    var(--pst-color-text-base, rgba(255, 255, 255, 1))\n",
       "  );\n",
       "  --xr-font-color2: var(\n",
       "    --jp-content-font-color2,\n",
       "    var(--pst-color-text-base, rgba(255, 255, 255, 0.54))\n",
       "  );\n",
       "  --xr-font-color3: var(\n",
       "    --jp-content-font-color3,\n",
       "    var(--pst-color-text-base, rgba(255, 255, 255, 0.38))\n",
       "  );\n",
       "  --xr-border-color: var(\n",
       "    --jp-border-color2,\n",
       "    hsl(from var(--pst-color-on-background, #111111) h s calc(l + 10))\n",
       "  );\n",
       "  --xr-disabled-color: var(\n",
       "    --jp-layout-color3,\n",
       "    hsl(from var(--pst-color-on-background, #111111) h s calc(l + 40))\n",
       "  );\n",
       "  --xr-background-color: var(\n",
       "    --jp-layout-color0,\n",
       "    var(--pst-color-on-background, #111111)\n",
       "  );\n",
       "  --xr-background-color-row-even: var(\n",
       "    --jp-layout-color1,\n",
       "    hsl(from var(--pst-color-on-background, #111111) h s calc(l + 5))\n",
       "  );\n",
       "  --xr-background-color-row-odd: var(\n",
       "    --jp-layout-color2,\n",
       "    hsl(from var(--pst-color-on-background, #111111) h s calc(l + 15))\n",
       "  );\n",
       "}\n",
       "\n",
       ".xr-wrap {\n",
       "  display: block !important;\n",
       "  min-width: 300px;\n",
       "  max-width: 700px;\n",
       "}\n",
       "\n",
       ".xr-text-repr-fallback {\n",
       "  /* fallback to plain text repr when CSS is not injected (untrusted notebook) */\n",
       "  display: none;\n",
       "}\n",
       "\n",
       ".xr-header {\n",
       "  padding-top: 6px;\n",
       "  padding-bottom: 6px;\n",
       "  margin-bottom: 4px;\n",
       "  border-bottom: solid 1px var(--xr-border-color);\n",
       "}\n",
       "\n",
       ".xr-header > div,\n",
       ".xr-header > ul {\n",
       "  display: inline;\n",
       "  margin-top: 0;\n",
       "  margin-bottom: 0;\n",
       "}\n",
       "\n",
       ".xr-obj-type,\n",
       ".xr-array-name {\n",
       "  margin-left: 2px;\n",
       "  margin-right: 10px;\n",
       "}\n",
       "\n",
       ".xr-obj-type {\n",
       "  color: var(--xr-font-color2);\n",
       "}\n",
       "\n",
       ".xr-sections {\n",
       "  padding-left: 0 !important;\n",
       "  display: grid;\n",
       "  grid-template-columns: 150px auto auto 1fr 0 20px 0 20px;\n",
       "}\n",
       "\n",
       ".xr-section-item {\n",
       "  display: contents;\n",
       "}\n",
       "\n",
       ".xr-section-item input {\n",
       "  display: inline-block;\n",
       "  opacity: 0;\n",
       "  height: 0;\n",
       "}\n",
       "\n",
       ".xr-section-item input + label {\n",
       "  color: var(--xr-disabled-color);\n",
       "  border: 2px solid transparent !important;\n",
       "}\n",
       "\n",
       ".xr-section-item input:enabled + label {\n",
       "  cursor: pointer;\n",
       "  color: var(--xr-font-color2);\n",
       "}\n",
       "\n",
       ".xr-section-item input:focus + label {\n",
       "  border: 2px solid var(--xr-font-color0) !important;\n",
       "}\n",
       "\n",
       ".xr-section-item input:enabled + label:hover {\n",
       "  color: var(--xr-font-color0);\n",
       "}\n",
       "\n",
       ".xr-section-summary {\n",
       "  grid-column: 1;\n",
       "  color: var(--xr-font-color2);\n",
       "  font-weight: 500;\n",
       "}\n",
       "\n",
       ".xr-section-summary > span {\n",
       "  display: inline-block;\n",
       "  padding-left: 0.5em;\n",
       "}\n",
       "\n",
       ".xr-section-summary-in:disabled + label {\n",
       "  color: var(--xr-font-color2);\n",
       "}\n",
       "\n",
       ".xr-section-summary-in + label:before {\n",
       "  display: inline-block;\n",
       "  content: \"►\";\n",
       "  font-size: 11px;\n",
       "  width: 15px;\n",
       "  text-align: center;\n",
       "}\n",
       "\n",
       ".xr-section-summary-in:disabled + label:before {\n",
       "  color: var(--xr-disabled-color);\n",
       "}\n",
       "\n",
       ".xr-section-summary-in:checked + label:before {\n",
       "  content: \"▼\";\n",
       "}\n",
       "\n",
       ".xr-section-summary-in:checked + label > span {\n",
       "  display: none;\n",
       "}\n",
       "\n",
       ".xr-section-summary,\n",
       ".xr-section-inline-details {\n",
       "  padding-top: 4px;\n",
       "  padding-bottom: 4px;\n",
       "}\n",
       "\n",
       ".xr-section-inline-details {\n",
       "  grid-column: 2 / -1;\n",
       "}\n",
       "\n",
       ".xr-section-details {\n",
       "  display: none;\n",
       "  grid-column: 1 / -1;\n",
       "  margin-bottom: 5px;\n",
       "}\n",
       "\n",
       ".xr-section-summary-in:checked ~ .xr-section-details {\n",
       "  display: contents;\n",
       "}\n",
       "\n",
       ".xr-array-wrap {\n",
       "  grid-column: 1 / -1;\n",
       "  display: grid;\n",
       "  grid-template-columns: 20px auto;\n",
       "}\n",
       "\n",
       ".xr-array-wrap > label {\n",
       "  grid-column: 1;\n",
       "  vertical-align: top;\n",
       "}\n",
       "\n",
       ".xr-preview {\n",
       "  color: var(--xr-font-color3);\n",
       "}\n",
       "\n",
       ".xr-array-preview,\n",
       ".xr-array-data {\n",
       "  padding: 0 5px !important;\n",
       "  grid-column: 2;\n",
       "}\n",
       "\n",
       ".xr-array-data,\n",
       ".xr-array-in:checked ~ .xr-array-preview {\n",
       "  display: none;\n",
       "}\n",
       "\n",
       ".xr-array-in:checked ~ .xr-array-data,\n",
       ".xr-array-preview {\n",
       "  display: inline-block;\n",
       "}\n",
       "\n",
       ".xr-dim-list {\n",
       "  display: inline-block !important;\n",
       "  list-style: none;\n",
       "  padding: 0 !important;\n",
       "  margin: 0;\n",
       "}\n",
       "\n",
       ".xr-dim-list li {\n",
       "  display: inline-block;\n",
       "  padding: 0;\n",
       "  margin: 0;\n",
       "}\n",
       "\n",
       ".xr-dim-list:before {\n",
       "  content: \"(\";\n",
       "}\n",
       "\n",
       ".xr-dim-list:after {\n",
       "  content: \")\";\n",
       "}\n",
       "\n",
       ".xr-dim-list li:not(:last-child):after {\n",
       "  content: \",\";\n",
       "  padding-right: 5px;\n",
       "}\n",
       "\n",
       ".xr-has-index {\n",
       "  font-weight: bold;\n",
       "}\n",
       "\n",
       ".xr-var-list,\n",
       ".xr-var-item {\n",
       "  display: contents;\n",
       "}\n",
       "\n",
       ".xr-var-item > div,\n",
       ".xr-var-item label,\n",
       ".xr-var-item > .xr-var-name span {\n",
       "  background-color: var(--xr-background-color-row-even);\n",
       "  border-color: var(--xr-background-color-row-odd);\n",
       "  margin-bottom: 0;\n",
       "  padding-top: 2px;\n",
       "}\n",
       "\n",
       ".xr-var-item > .xr-var-name:hover span {\n",
       "  padding-right: 5px;\n",
       "}\n",
       "\n",
       ".xr-var-list > li:nth-child(odd) > div,\n",
       ".xr-var-list > li:nth-child(odd) > label,\n",
       ".xr-var-list > li:nth-child(odd) > .xr-var-name span {\n",
       "  background-color: var(--xr-background-color-row-odd);\n",
       "  border-color: var(--xr-background-color-row-even);\n",
       "}\n",
       "\n",
       ".xr-var-name {\n",
       "  grid-column: 1;\n",
       "}\n",
       "\n",
       ".xr-var-dims {\n",
       "  grid-column: 2;\n",
       "}\n",
       "\n",
       ".xr-var-dtype {\n",
       "  grid-column: 3;\n",
       "  text-align: right;\n",
       "  color: var(--xr-font-color2);\n",
       "}\n",
       "\n",
       ".xr-var-preview {\n",
       "  grid-column: 4;\n",
       "}\n",
       "\n",
       ".xr-index-preview {\n",
       "  grid-column: 2 / 5;\n",
       "  color: var(--xr-font-color2);\n",
       "}\n",
       "\n",
       ".xr-var-name,\n",
       ".xr-var-dims,\n",
       ".xr-var-dtype,\n",
       ".xr-preview,\n",
       ".xr-attrs dt {\n",
       "  white-space: nowrap;\n",
       "  overflow: hidden;\n",
       "  text-overflow: ellipsis;\n",
       "  padding-right: 10px;\n",
       "}\n",
       "\n",
       ".xr-var-name:hover,\n",
       ".xr-var-dims:hover,\n",
       ".xr-var-dtype:hover,\n",
       ".xr-attrs dt:hover {\n",
       "  overflow: visible;\n",
       "  width: auto;\n",
       "  z-index: 1;\n",
       "}\n",
       "\n",
       ".xr-var-attrs,\n",
       ".xr-var-data,\n",
       ".xr-index-data {\n",
       "  display: none;\n",
       "  border-top: 2px dotted var(--xr-background-color);\n",
       "  padding-bottom: 20px !important;\n",
       "  padding-top: 10px !important;\n",
       "}\n",
       "\n",
       ".xr-var-attrs-in + label,\n",
       ".xr-var-data-in + label,\n",
       ".xr-index-data-in + label {\n",
       "  padding: 0 1px;\n",
       "}\n",
       "\n",
       ".xr-var-attrs-in:checked ~ .xr-var-attrs,\n",
       ".xr-var-data-in:checked ~ .xr-var-data,\n",
       ".xr-index-data-in:checked ~ .xr-index-data {\n",
       "  display: block;\n",
       "}\n",
       "\n",
       ".xr-var-data > table {\n",
       "  float: right;\n",
       "}\n",
       "\n",
       ".xr-var-data > pre,\n",
       ".xr-index-data > pre,\n",
       ".xr-var-data > table > tbody > tr {\n",
       "  background-color: transparent !important;\n",
       "}\n",
       "\n",
       ".xr-var-name span,\n",
       ".xr-var-data,\n",
       ".xr-index-name div,\n",
       ".xr-index-data,\n",
       ".xr-attrs {\n",
       "  padding-left: 25px !important;\n",
       "}\n",
       "\n",
       ".xr-attrs,\n",
       ".xr-var-attrs,\n",
       ".xr-var-data,\n",
       ".xr-index-data {\n",
       "  grid-column: 1 / -1;\n",
       "}\n",
       "\n",
       "dl.xr-attrs {\n",
       "  padding: 0;\n",
       "  margin: 0;\n",
       "  display: grid;\n",
       "  grid-template-columns: 125px auto;\n",
       "}\n",
       "\n",
       ".xr-attrs dt,\n",
       ".xr-attrs dd {\n",
       "  padding: 0;\n",
       "  margin: 0;\n",
       "  float: left;\n",
       "  padding-right: 10px;\n",
       "  width: auto;\n",
       "}\n",
       "\n",
       ".xr-attrs dt {\n",
       "  font-weight: normal;\n",
       "  grid-column: 1;\n",
       "}\n",
       "\n",
       ".xr-attrs dt:hover span {\n",
       "  display: inline-block;\n",
       "  background: var(--xr-background-color);\n",
       "  padding-right: 10px;\n",
       "}\n",
       "\n",
       ".xr-attrs dd {\n",
       "  grid-column: 2;\n",
       "  white-space: pre-wrap;\n",
       "  word-break: break-all;\n",
       "}\n",
       "\n",
       ".xr-icon-database,\n",
       ".xr-icon-file-text2,\n",
       ".xr-no-icon {\n",
       "  display: inline-block;\n",
       "  vertical-align: middle;\n",
       "  width: 1em;\n",
       "  height: 1.5em !important;\n",
       "  stroke-width: 0;\n",
       "  stroke: currentColor;\n",
       "  fill: currentColor;\n",
       "}\n",
       "\n",
       ".xr-var-attrs-in:checked + label > .xr-icon-file-text2,\n",
       ".xr-var-data-in:checked + label > .xr-icon-database,\n",
       ".xr-index-data-in:checked + label > .xr-icon-database {\n",
       "  color: var(--xr-font-color0);\n",
       "  filter: drop-shadow(1px 1px 5px var(--xr-font-color2));\n",
       "  stroke-width: 0.8px;\n",
       "}\n",
       "</style><pre class='xr-text-repr-fallback'>&lt;xarray.Dataset&gt; Size: 368B\n",
       "Dimensions:   (x: 1, y: 1, z: 1, number: 1, datetime: 1, t: 16)\n",
       "Coordinates:\n",
       "  * x         (x) float64 8B 38.02\n",
       "  * y         (y) float64 8B 350.5\n",
       "  * z         (z) int64 8B 0\n",
       "  * number    (number) int64 8B 0\n",
       "  * datetime  (datetime) &lt;U20 80B &#x27;2018-02-20 00:00:00Z&#x27;\n",
       "  * t         (t) datetime64[ns] 128B 2018-02-05 2018-02-06 ... 2018-02-20\n",
       "Data variables:\n",
       "    10u       (x, y, z, number, datetime, t) float64 128B -1.035 ... -1.723\n",
       "Attributes: (12/14)\n",
       "    activity:       story-nudging\n",
       "    class:          d1\n",
       "    dataset:        climate-dt\n",
       "    experiment:     cont\n",
       "    expver:         0001\n",
       "    generation:     1\n",
       "    ...             ...\n",
       "    realization:    1\n",
       "    resolution:     high\n",
       "    stream:         clte\n",
       "    type:           fc\n",
       "    number:         0\n",
       "    Forecast date:  2018-02-20 00:00:00Z</pre><div class='xr-wrap' style='display:none'><div class='xr-header'><div class='xr-obj-type'>xarray.Dataset</div></div><ul class='xr-sections'><li class='xr-section-item'><input id='section-6bb6569e-29c0-4cea-a444-f2e81ddc2f8b' class='xr-section-summary-in' type='checkbox' disabled ><label for='section-6bb6569e-29c0-4cea-a444-f2e81ddc2f8b' class='xr-section-summary'  title='Expand/collapse section'>Dimensions:</label><div class='xr-section-inline-details'><ul class='xr-dim-list'><li><span class='xr-has-index'>x</span>: 1</li><li><span class='xr-has-index'>y</span>: 1</li><li><span class='xr-has-index'>z</span>: 1</li><li><span class='xr-has-index'>number</span>: 1</li><li><span class='xr-has-index'>datetime</span>: 1</li><li><span class='xr-has-index'>t</span>: 16</li></ul></div><div class='xr-section-details'></div></li><li class='xr-section-item'><input id='section-db95efcb-f8c0-4589-94ab-9fa3458e7d88' class='xr-section-summary-in' type='checkbox'  checked><label for='section-db95efcb-f8c0-4589-94ab-9fa3458e7d88' class='xr-section-summary' >Coordinates: <span>(6)</span></label><div class='xr-section-inline-details'></div><div class='xr-section-details'><ul class='xr-var-list'><li class='xr-var-item'><div class='xr-var-name'><span class='xr-has-index'>x</span></div><div class='xr-var-dims'>(x)</div><div class='xr-var-dtype'>float64</div><div class='xr-var-preview xr-preview'>38.02</div><input id='attrs-6bd7990a-add7-41a8-bc6d-7ba0c1251feb' class='xr-var-attrs-in' type='checkbox' disabled><label for='attrs-6bd7990a-add7-41a8-bc6d-7ba0c1251feb' title='Show/Hide attributes'><svg class='icon xr-icon-file-text2'><use xlink:href='#icon-file-text2'></use></svg></label><input id='data-0d3c22e3-bde9-46da-835e-1ee1919a87c6' class='xr-var-data-in' type='checkbox'><label for='data-0d3c22e3-bde9-46da-835e-1ee1919a87c6' title='Show/Hide data repr'><svg class='icon xr-icon-database'><use xlink:href='#icon-database'></use></svg></label><div class='xr-var-attrs'><dl class='xr-attrs'></dl></div><div class='xr-var-data'><pre>array([38.016284])</pre></div></li><li class='xr-var-item'><div class='xr-var-name'><span class='xr-has-index'>y</span></div><div class='xr-var-dims'>(y)</div><div class='xr-var-dtype'>float64</div><div class='xr-var-preview xr-preview'>350.5</div><input id='attrs-01a25d68-0927-4213-8753-d32714c1ccd3' class='xr-var-attrs-in' type='checkbox' disabled><label for='attrs-01a25d68-0927-4213-8753-d32714c1ccd3' title='Show/Hide attributes'><svg class='icon xr-icon-file-text2'><use xlink:href='#icon-file-text2'></use></svg></label><input id='data-9c15200a-401d-4ccf-9a71-be35b780da3d' class='xr-var-data-in' type='checkbox'><label for='data-9c15200a-401d-4ccf-9a71-be35b780da3d' title='Show/Hide data repr'><svg class='icon xr-icon-database'><use xlink:href='#icon-database'></use></svg></label><div class='xr-var-attrs'><dl class='xr-attrs'></dl></div><div class='xr-var-data'><pre>array([350.507812])</pre></div></li><li class='xr-var-item'><div class='xr-var-name'><span class='xr-has-index'>z</span></div><div class='xr-var-dims'>(z)</div><div class='xr-var-dtype'>int64</div><div class='xr-var-preview xr-preview'>0</div><input id='attrs-241d9192-7685-441e-bd37-cdaf2ca3b83a' class='xr-var-attrs-in' type='checkbox' disabled><label for='attrs-241d9192-7685-441e-bd37-cdaf2ca3b83a' title='Show/Hide attributes'><svg class='icon xr-icon-file-text2'><use xlink:href='#icon-file-text2'></use></svg></label><input id='data-d4701076-eebd-433b-bedd-3f8754785545' class='xr-var-data-in' type='checkbox'><label for='data-d4701076-eebd-433b-bedd-3f8754785545' title='Show/Hide data repr'><svg class='icon xr-icon-database'><use xlink:href='#icon-database'></use></svg></label><div class='xr-var-attrs'><dl class='xr-attrs'></dl></div><div class='xr-var-data'><pre>array([0])</pre></div></li><li class='xr-var-item'><div class='xr-var-name'><span class='xr-has-index'>number</span></div><div class='xr-var-dims'>(number)</div><div class='xr-var-dtype'>int64</div><div class='xr-var-preview xr-preview'>0</div><input id='attrs-e64db814-709f-44c1-b742-27faeb591d50' class='xr-var-attrs-in' type='checkbox' disabled><label for='attrs-e64db814-709f-44c1-b742-27faeb591d50' title='Show/Hide attributes'><svg class='icon xr-icon-file-text2'><use xlink:href='#icon-file-text2'></use></svg></label><input id='data-ab297ae6-091d-45eb-b4f7-c07efa56418a' class='xr-var-data-in' type='checkbox'><label for='data-ab297ae6-091d-45eb-b4f7-c07efa56418a' title='Show/Hide data repr'><svg class='icon xr-icon-database'><use xlink:href='#icon-database'></use></svg></label><div class='xr-var-attrs'><dl class='xr-attrs'></dl></div><div class='xr-var-data'><pre>array([0])</pre></div></li><li class='xr-var-item'><div class='xr-var-name'><span class='xr-has-index'>datetime</span></div><div class='xr-var-dims'>(datetime)</div><div class='xr-var-dtype'>&lt;U20</div><div class='xr-var-preview xr-preview'>&#x27;2018-02-20 00:00:00Z&#x27;</div><input id='attrs-53e9e95f-5194-4bff-805d-f41d7f8c714f' class='xr-var-attrs-in' type='checkbox' disabled><label for='attrs-53e9e95f-5194-4bff-805d-f41d7f8c714f' title='Show/Hide attributes'><svg class='icon xr-icon-file-text2'><use xlink:href='#icon-file-text2'></use></svg></label><input id='data-237a7d5d-95a2-4b58-bb5d-f01cd27ef327' class='xr-var-data-in' type='checkbox'><label for='data-237a7d5d-95a2-4b58-bb5d-f01cd27ef327' title='Show/Hide data repr'><svg class='icon xr-icon-database'><use xlink:href='#icon-database'></use></svg></label><div class='xr-var-attrs'><dl class='xr-attrs'></dl></div><div class='xr-var-data'><pre>array([&#x27;2018-02-20 00:00:00Z&#x27;], dtype=&#x27;&lt;U20&#x27;)</pre></div></li><li class='xr-var-item'><div class='xr-var-name'><span class='xr-has-index'>t</span></div><div class='xr-var-dims'>(t)</div><div class='xr-var-dtype'>datetime64[ns]</div><div class='xr-var-preview xr-preview'>2018-02-05 ... 2018-02-20</div><input id='attrs-68a3178e-3632-4c2f-8fde-1074303e50cb' class='xr-var-attrs-in' type='checkbox' disabled><label for='attrs-68a3178e-3632-4c2f-8fde-1074303e50cb' title='Show/Hide attributes'><svg class='icon xr-icon-file-text2'><use xlink:href='#icon-file-text2'></use></svg></label><input id='data-fc795086-078d-4d1e-8b2b-e95b2b4aaa39' class='xr-var-data-in' type='checkbox'><label for='data-fc795086-078d-4d1e-8b2b-e95b2b4aaa39' title='Show/Hide data repr'><svg class='icon xr-icon-database'><use xlink:href='#icon-database'></use></svg></label><div class='xr-var-attrs'><dl class='xr-attrs'></dl></div><div class='xr-var-data'><pre>array([&#x27;2018-02-05T00:00:00.000000000&#x27;, &#x27;2018-02-06T00:00:00.000000000&#x27;,\n",
       "       &#x27;2018-02-07T00:00:00.000000000&#x27;, &#x27;2018-02-08T00:00:00.000000000&#x27;,\n",
       "       &#x27;2018-02-09T00:00:00.000000000&#x27;, &#x27;2018-02-10T00:00:00.000000000&#x27;,\n",
       "       &#x27;2018-02-11T00:00:00.000000000&#x27;, &#x27;2018-02-12T00:00:00.000000000&#x27;,\n",
       "       &#x27;2018-02-13T00:00:00.000000000&#x27;, &#x27;2018-02-14T00:00:00.000000000&#x27;,\n",
       "       &#x27;2018-02-15T00:00:00.000000000&#x27;, &#x27;2018-02-16T00:00:00.000000000&#x27;,\n",
       "       &#x27;2018-02-17T00:00:00.000000000&#x27;, &#x27;2018-02-18T00:00:00.000000000&#x27;,\n",
       "       &#x27;2018-02-19T00:00:00.000000000&#x27;, &#x27;2018-02-20T00:00:00.000000000&#x27;],\n",
       "      dtype=&#x27;datetime64[ns]&#x27;)</pre></div></li></ul></div></li><li class='xr-section-item'><input id='section-0e141ab6-a67e-4a5e-bdfc-be87516bc4c6' class='xr-section-summary-in' type='checkbox'  checked><label for='section-0e141ab6-a67e-4a5e-bdfc-be87516bc4c6' class='xr-section-summary' >Data variables: <span>(1)</span></label><div class='xr-section-inline-details'></div><div class='xr-section-details'><ul class='xr-var-list'><li class='xr-var-item'><div class='xr-var-name'><span>10u</span></div><div class='xr-var-dims'>(x, y, z, number, datetime, t)</div><div class='xr-var-dtype'>float64</div><div class='xr-var-preview xr-preview'>-1.035 -1.31 ... -3.496 -1.723</div><input id='attrs-b64bfff8-b6b0-4a98-8386-e723988465c0' class='xr-var-attrs-in' type='checkbox' ><label for='attrs-b64bfff8-b6b0-4a98-8386-e723988465c0' title='Show/Hide attributes'><svg class='icon xr-icon-file-text2'><use xlink:href='#icon-file-text2'></use></svg></label><input id='data-f5c24b0b-91c6-40c4-809f-91116201791b' class='xr-var-data-in' type='checkbox'><label for='data-f5c24b0b-91c6-40c4-809f-91116201791b' title='Show/Hide data repr'><svg class='icon xr-icon-database'><use xlink:href='#icon-database'></use></svg></label><div class='xr-var-attrs'><dl class='xr-attrs'><dt><span>type :</span></dt><dd>Parameter</dd><dt><span>units :</span></dt><dd>m s**-1</dd><dt><span>long_name :</span></dt><dd>10u</dd></dl></div><div class='xr-var-data'><pre>array([[[[[[-1.03497505, -1.31013298, -3.71728134, -7.0200386 ,\n",
       "             0.06177711, -1.03588676, -1.34597397,  8.12549019,\n",
       "             2.32795143,  5.28248215,  3.29925919,  2.3224659 ,\n",
       "             2.56562805, -1.3319397 , -3.49638557, -1.72289085]]]]]])</pre></div></li></ul></div></li><li class='xr-section-item'><input id='section-56a0f933-7408-444d-89b4-86e07689ad87' class='xr-section-summary-in' type='checkbox'  ><label for='section-56a0f933-7408-444d-89b4-86e07689ad87' class='xr-section-summary' >Indexes: <span>(6)</span></label><div class='xr-section-inline-details'></div><div class='xr-section-details'><ul class='xr-var-list'><li class='xr-var-item'><div class='xr-index-name'><div>x</div></div><div class='xr-index-preview'>PandasIndex</div><input type='checkbox' disabled/><label></label><input id='index-57bdc35c-91ed-4ce3-bbef-263c22cb08cc' class='xr-index-data-in' type='checkbox'/><label for='index-57bdc35c-91ed-4ce3-bbef-263c22cb08cc' title='Show/Hide index repr'><svg class='icon xr-icon-database'><use xlink:href='#icon-database'></use></svg></label><div class='xr-index-data'><pre>PandasIndex(Index([38.016284446058], dtype=&#x27;float64&#x27;, name=&#x27;x&#x27;))</pre></div></li><li class='xr-var-item'><div class='xr-index-name'><div>y</div></div><div class='xr-index-preview'>PandasIndex</div><input type='checkbox' disabled/><label></label><input id='index-b3527756-608b-4b78-b0fe-50abc8c29bb4' class='xr-index-data-in' type='checkbox'/><label for='index-b3527756-608b-4b78-b0fe-50abc8c29bb4' title='Show/Hide index repr'><svg class='icon xr-icon-database'><use xlink:href='#icon-database'></use></svg></label><div class='xr-index-data'><pre>PandasIndex(Index([350.5078125], dtype=&#x27;float64&#x27;, name=&#x27;y&#x27;))</pre></div></li><li class='xr-var-item'><div class='xr-index-name'><div>z</div></div><div class='xr-index-preview'>PandasIndex</div><input type='checkbox' disabled/><label></label><input id='index-0a5e0d06-6bb5-4e69-bbea-3ac7108a8d16' class='xr-index-data-in' type='checkbox'/><label for='index-0a5e0d06-6bb5-4e69-bbea-3ac7108a8d16' title='Show/Hide index repr'><svg class='icon xr-icon-database'><use xlink:href='#icon-database'></use></svg></label><div class='xr-index-data'><pre>PandasIndex(Index([0], dtype=&#x27;int64&#x27;, name=&#x27;z&#x27;))</pre></div></li><li class='xr-var-item'><div class='xr-index-name'><div>number</div></div><div class='xr-index-preview'>PandasIndex</div><input type='checkbox' disabled/><label></label><input id='index-2822cd47-612d-48bc-a2db-b40df9565a9e' class='xr-index-data-in' type='checkbox'/><label for='index-2822cd47-612d-48bc-a2db-b40df9565a9e' title='Show/Hide index repr'><svg class='icon xr-icon-database'><use xlink:href='#icon-database'></use></svg></label><div class='xr-index-data'><pre>PandasIndex(Index([0], dtype=&#x27;int64&#x27;, name=&#x27;number&#x27;))</pre></div></li><li class='xr-var-item'><div class='xr-index-name'><div>datetime</div></div><div class='xr-index-preview'>PandasIndex</div><input type='checkbox' disabled/><label></label><input id='index-fd79b19a-75cf-40c6-a028-163cfe68e89e' class='xr-index-data-in' type='checkbox'/><label for='index-fd79b19a-75cf-40c6-a028-163cfe68e89e' title='Show/Hide index repr'><svg class='icon xr-icon-database'><use xlink:href='#icon-database'></use></svg></label><div class='xr-index-data'><pre>PandasIndex(Index([&#x27;2018-02-20 00:00:00Z&#x27;], dtype=&#x27;object&#x27;, name=&#x27;datetime&#x27;))</pre></div></li><li class='xr-var-item'><div class='xr-index-name'><div>t</div></div><div class='xr-index-preview'>PandasIndex</div><input type='checkbox' disabled/><label></label><input id='index-31beb37a-c4dc-4786-950f-afde1318996f' class='xr-index-data-in' type='checkbox'/><label for='index-31beb37a-c4dc-4786-950f-afde1318996f' title='Show/Hide index repr'><svg class='icon xr-icon-database'><use xlink:href='#icon-database'></use></svg></label><div class='xr-index-data'><pre>PandasIndex(DatetimeIndex([&#x27;2018-02-05&#x27;, &#x27;2018-02-06&#x27;, &#x27;2018-02-07&#x27;, &#x27;2018-02-08&#x27;,\n",
       "               &#x27;2018-02-09&#x27;, &#x27;2018-02-10&#x27;, &#x27;2018-02-11&#x27;, &#x27;2018-02-12&#x27;,\n",
       "               &#x27;2018-02-13&#x27;, &#x27;2018-02-14&#x27;, &#x27;2018-02-15&#x27;, &#x27;2018-02-16&#x27;,\n",
       "               &#x27;2018-02-17&#x27;, &#x27;2018-02-18&#x27;, &#x27;2018-02-19&#x27;, &#x27;2018-02-20&#x27;],\n",
       "              dtype=&#x27;datetime64[ns]&#x27;, name=&#x27;t&#x27;, freq=None))</pre></div></li></ul></div></li><li class='xr-section-item'><input id='section-ded847c7-2f35-4316-a104-45bd44d7d6f9' class='xr-section-summary-in' type='checkbox'  ><label for='section-ded847c7-2f35-4316-a104-45bd44d7d6f9' class='xr-section-summary' >Attributes: <span>(14)</span></label><div class='xr-section-inline-details'></div><div class='xr-section-details'><dl class='xr-attrs'><dt><span>activity :</span></dt><dd>story-nudging</dd><dt><span>class :</span></dt><dd>d1</dd><dt><span>dataset :</span></dt><dd>climate-dt</dd><dt><span>experiment :</span></dt><dd>cont</dd><dt><span>expver :</span></dt><dd>0001</dd><dt><span>generation :</span></dt><dd>1</dd><dt><span>levtype :</span></dt><dd>sfc</dd><dt><span>model :</span></dt><dd>ifs-fesom</dd><dt><span>realization :</span></dt><dd>1</dd><dt><span>resolution :</span></dt><dd>high</dd><dt><span>stream :</span></dt><dd>clte</dd><dt><span>type :</span></dt><dd>fc</dd><dt><span>number :</span></dt><dd>0</dd><dt><span>Forecast date :</span></dt><dd>2018-02-20 00:00:00Z</dd></dl></div></li></ul></div></div>"
      ],
      "text/plain": [
       "<xarray.Dataset> Size: 368B\n",
       "Dimensions:   (x: 1, y: 1, z: 1, number: 1, datetime: 1, t: 16)\n",
       "Coordinates:\n",
       "  * x         (x) float64 8B 38.02\n",
       "  * y         (y) float64 8B 350.5\n",
       "  * z         (z) int64 8B 0\n",
       "  * number    (number) int64 8B 0\n",
       "  * datetime  (datetime) <U20 80B '2018-02-20 00:00:00Z'\n",
       "  * t         (t) datetime64[ns] 128B 2018-02-05 2018-02-06 ... 2018-02-20\n",
       "Data variables:\n",
       "    10u       (x, y, z, number, datetime, t) float64 128B -1.035 ... -1.723\n",
       "Attributes: (12/14)\n",
       "    activity:       story-nudging\n",
       "    class:          d1\n",
       "    dataset:        climate-dt\n",
       "    experiment:     cont\n",
       "    expver:         0001\n",
       "    generation:     1\n",
       "    ...             ...\n",
       "    realization:    1\n",
       "    resolution:     high\n",
       "    stream:         clte\n",
       "    type:           fc\n",
       "    number:         0\n",
       "    Forecast date:  2018-02-20 00:00:00Z"
      ]
     },
     "execution_count": 37,
     "metadata": {},
     "output_type": "execute_result"
    }
   ],
   "source": [
    "ds = data.to_xarray()\n",
    "ds"
   ]
  },
  {
   "cell_type": "code",
   "execution_count": null,
   "id": "f12d8515",
   "metadata": {
    "tags": [
     "check-image"
    ]
   },
   "outputs": [
    {
     "data": {
      "application/vnd.plotly.v1+json": {
       "config": {
        "plotlyServerURL": "https://plot.ly"
       },
       "data": [
        {
         "line": {
          "color": "grey"
         },
         "type": "scatter",
         "x": [
          "2018-02-05T00:00:00",
          "2018-02-06T00:00:00",
          "2018-02-07T00:00:00",
          "2018-02-08T00:00:00",
          "2018-02-09T00:00:00",
          "2018-02-10T00:00:00",
          "2018-02-11T00:00:00",
          "2018-02-12T00:00:00",
          "2018-02-13T00:00:00",
          "2018-02-14T00:00:00",
          "2018-02-15T00:00:00",
          "2018-02-16T00:00:00",
          "2018-02-17T00:00:00",
          "2018-02-18T00:00:00",
          "2018-02-19T00:00:00",
          "2018-02-20T00:00:00"
         ],
         "y": {
          "bdata": "AAAAAEKP8L8AAAAATvb0vwAAAAD+vA3AAAAAAIUUHMAAAAAAQKGvPwAAAAD+kvC/AAAAAByJ9b8AAABAQEAgQAAAAAClnwJAAAAAAEMhFUAAAAAA4mQKQAAAAABplAJAAAAAAGiGBEAAAAAAoE/1vwAAAACZ+AvAAAAAAPaQ+78=",
          "dtype": "f8"
         }
        }
       ],
       "layout": {
        "annotations": [
         {
          "font": {
           "size": 16
          },
          "showarrow": false,
          "text": "10u",
          "x": 0.5,
          "xanchor": "center",
          "xref": "paper",
          "y": 1,
          "yanchor": "bottom",
          "yref": "paper"
         }
        ],
        "colorway": [
         "#636EFA",
         "#EF553B",
         "#00CC96",
         "#AB63FA",
         "#FFA15A",
         "#19D3F3",
         "#FF6692",
         "#B6E880",
         "#FF97FF",
         "#FECB52"
        ],
        "height": 750,
        "hovermode": "x",
        "plot_bgcolor": "white",
        "showlegend": false,
        "template": {
         "data": {
          "bar": [
           {
            "error_x": {
             "color": "#2a3f5f"
            },
            "error_y": {
             "color": "#2a3f5f"
            },
            "marker": {
             "line": {
              "color": "#E5ECF6",
              "width": 0.5
             },
             "pattern": {
              "fillmode": "overlay",
              "size": 10,
              "solidity": 0.2
             }
            },
            "type": "bar"
           }
          ],
          "barpolar": [
           {
            "marker": {
             "line": {
              "color": "#E5ECF6",
              "width": 0.5
             },
             "pattern": {
              "fillmode": "overlay",
              "size": 10,
              "solidity": 0.2
             }
            },
            "type": "barpolar"
           }
          ],
          "carpet": [
           {
            "aaxis": {
             "endlinecolor": "#2a3f5f",
             "gridcolor": "white",
             "linecolor": "white",
             "minorgridcolor": "white",
             "startlinecolor": "#2a3f5f"
            },
            "baxis": {
             "endlinecolor": "#2a3f5f",
             "gridcolor": "white",
             "linecolor": "white",
             "minorgridcolor": "white",
             "startlinecolor": "#2a3f5f"
            },
            "type": "carpet"
           }
          ],
          "choropleth": [
           {
            "colorbar": {
             "outlinewidth": 0,
             "ticks": ""
            },
            "type": "choropleth"
           }
          ],
          "contour": [
           {
            "colorbar": {
             "outlinewidth": 0,
             "ticks": ""
            },
            "colorscale": [
             [
              0,
              "#0d0887"
             ],
             [
              0.1111111111111111,
              "#46039f"
             ],
             [
              0.2222222222222222,
              "#7201a8"
             ],
             [
              0.3333333333333333,
              "#9c179e"
             ],
             [
              0.4444444444444444,
              "#bd3786"
             ],
             [
              0.5555555555555556,
              "#d8576b"
             ],
             [
              0.6666666666666666,
              "#ed7953"
             ],
             [
              0.7777777777777778,
              "#fb9f3a"
             ],
             [
              0.8888888888888888,
              "#fdca26"
             ],
             [
              1,
              "#f0f921"
             ]
            ],
            "type": "contour"
           }
          ],
          "contourcarpet": [
           {
            "colorbar": {
             "outlinewidth": 0,
             "ticks": ""
            },
            "type": "contourcarpet"
           }
          ],
          "heatmap": [
           {
            "colorbar": {
             "outlinewidth": 0,
             "ticks": ""
            },
            "colorscale": [
             [
              0,
              "#0d0887"
             ],
             [
              0.1111111111111111,
              "#46039f"
             ],
             [
              0.2222222222222222,
              "#7201a8"
             ],
             [
              0.3333333333333333,
              "#9c179e"
             ],
             [
              0.4444444444444444,
              "#bd3786"
             ],
             [
              0.5555555555555556,
              "#d8576b"
             ],
             [
              0.6666666666666666,
              "#ed7953"
             ],
             [
              0.7777777777777778,
              "#fb9f3a"
             ],
             [
              0.8888888888888888,
              "#fdca26"
             ],
             [
              1,
              "#f0f921"
             ]
            ],
            "type": "heatmap"
           }
          ],
          "histogram": [
           {
            "marker": {
             "pattern": {
              "fillmode": "overlay",
              "size": 10,
              "solidity": 0.2
             }
            },
            "type": "histogram"
           }
          ],
          "histogram2d": [
           {
            "colorbar": {
             "outlinewidth": 0,
             "ticks": ""
            },
            "colorscale": [
             [
              0,
              "#0d0887"
             ],
             [
              0.1111111111111111,
              "#46039f"
             ],
             [
              0.2222222222222222,
              "#7201a8"
             ],
             [
              0.3333333333333333,
              "#9c179e"
             ],
             [
              0.4444444444444444,
              "#bd3786"
             ],
             [
              0.5555555555555556,
              "#d8576b"
             ],
             [
              0.6666666666666666,
              "#ed7953"
             ],
             [
              0.7777777777777778,
              "#fb9f3a"
             ],
             [
              0.8888888888888888,
              "#fdca26"
             ],
             [
              1,
              "#f0f921"
             ]
            ],
            "type": "histogram2d"
           }
          ],
          "histogram2dcontour": [
           {
            "colorbar": {
             "outlinewidth": 0,
             "ticks": ""
            },
            "colorscale": [
             [
              0,
              "#0d0887"
             ],
             [
              0.1111111111111111,
              "#46039f"
             ],
             [
              0.2222222222222222,
              "#7201a8"
             ],
             [
              0.3333333333333333,
              "#9c179e"
             ],
             [
              0.4444444444444444,
              "#bd3786"
             ],
             [
              0.5555555555555556,
              "#d8576b"
             ],
             [
              0.6666666666666666,
              "#ed7953"
             ],
             [
              0.7777777777777778,
              "#fb9f3a"
             ],
             [
              0.8888888888888888,
              "#fdca26"
             ],
             [
              1,
              "#f0f921"
             ]
            ],
            "type": "histogram2dcontour"
           }
          ],
          "mesh3d": [
           {
            "colorbar": {
             "outlinewidth": 0,
             "ticks": ""
            },
            "type": "mesh3d"
           }
          ],
          "parcoords": [
           {
            "line": {
             "colorbar": {
              "outlinewidth": 0,
              "ticks": ""
             }
            },
            "type": "parcoords"
           }
          ],
          "pie": [
           {
            "automargin": true,
            "type": "pie"
           }
          ],
          "scatter": [
           {
            "fillpattern": {
             "fillmode": "overlay",
             "size": 10,
             "solidity": 0.2
            },
            "type": "scatter"
           }
          ],
          "scatter3d": [
           {
            "line": {
             "colorbar": {
              "outlinewidth": 0,
              "ticks": ""
             }
            },
            "marker": {
             "colorbar": {
              "outlinewidth": 0,
              "ticks": ""
             }
            },
            "type": "scatter3d"
           }
          ],
          "scattercarpet": [
           {
            "marker": {
             "colorbar": {
              "outlinewidth": 0,
              "ticks": ""
             }
            },
            "type": "scattercarpet"
           }
          ],
          "scattergeo": [
           {
            "marker": {
             "colorbar": {
              "outlinewidth": 0,
              "ticks": ""
             }
            },
            "type": "scattergeo"
           }
          ],
          "scattergl": [
           {
            "marker": {
             "colorbar": {
              "outlinewidth": 0,
              "ticks": ""
             }
            },
            "type": "scattergl"
           }
          ],
          "scattermap": [
           {
            "marker": {
             "colorbar": {
              "outlinewidth": 0,
              "ticks": ""
             }
            },
            "type": "scattermap"
           }
          ],
          "scattermapbox": [
           {
            "marker": {
             "colorbar": {
              "outlinewidth": 0,
              "ticks": ""
             }
            },
            "type": "scattermapbox"
           }
          ],
          "scatterpolar": [
           {
            "marker": {
             "colorbar": {
              "outlinewidth": 0,
              "ticks": ""
             }
            },
            "type": "scatterpolar"
           }
          ],
          "scatterpolargl": [
           {
            "marker": {
             "colorbar": {
              "outlinewidth": 0,
              "ticks": ""
             }
            },
            "type": "scatterpolargl"
           }
          ],
          "scatterternary": [
           {
            "marker": {
             "colorbar": {
              "outlinewidth": 0,
              "ticks": ""
             }
            },
            "type": "scatterternary"
           }
          ],
          "surface": [
           {
            "colorbar": {
             "outlinewidth": 0,
             "ticks": ""
            },
            "colorscale": [
             [
              0,
              "#0d0887"
             ],
             [
              0.1111111111111111,
              "#46039f"
             ],
             [
              0.2222222222222222,
              "#7201a8"
             ],
             [
              0.3333333333333333,
              "#9c179e"
             ],
             [
              0.4444444444444444,
              "#bd3786"
             ],
             [
              0.5555555555555556,
              "#d8576b"
             ],
             [
              0.6666666666666666,
              "#ed7953"
             ],
             [
              0.7777777777777778,
              "#fb9f3a"
             ],
             [
              0.8888888888888888,
              "#fdca26"
             ],
             [
              1,
              "#f0f921"
             ]
            ],
            "type": "surface"
           }
          ],
          "table": [
           {
            "cells": {
             "fill": {
              "color": "#EBF0F8"
             },
             "line": {
              "color": "white"
             }
            },
            "header": {
             "fill": {
              "color": "#C8D4E3"
             },
             "line": {
              "color": "white"
             }
            },
            "type": "table"
           }
          ]
         },
         "layout": {
          "annotationdefaults": {
           "arrowcolor": "#2a3f5f",
           "arrowhead": 0,
           "arrowwidth": 1
          },
          "autotypenumbers": "strict",
          "coloraxis": {
           "colorbar": {
            "outlinewidth": 0,
            "ticks": ""
           }
          },
          "colorscale": {
           "diverging": [
            [
             0,
             "#8e0152"
            ],
            [
             0.1,
             "#c51b7d"
            ],
            [
             0.2,
             "#de77ae"
            ],
            [
             0.3,
             "#f1b6da"
            ],
            [
             0.4,
             "#fde0ef"
            ],
            [
             0.5,
             "#f7f7f7"
            ],
            [
             0.6,
             "#e6f5d0"
            ],
            [
             0.7,
             "#b8e186"
            ],
            [
             0.8,
             "#7fbc41"
            ],
            [
             0.9,
             "#4d9221"
            ],
            [
             1,
             "#276419"
            ]
           ],
           "sequential": [
            [
             0,
             "#0d0887"
            ],
            [
             0.1111111111111111,
             "#46039f"
            ],
            [
             0.2222222222222222,
             "#7201a8"
            ],
            [
             0.3333333333333333,
             "#9c179e"
            ],
            [
             0.4444444444444444,
             "#bd3786"
            ],
            [
             0.5555555555555556,
             "#d8576b"
            ],
            [
             0.6666666666666666,
             "#ed7953"
            ],
            [
             0.7777777777777778,
             "#fb9f3a"
            ],
            [
             0.8888888888888888,
             "#fdca26"
            ],
            [
             1,
             "#f0f921"
            ]
           ],
           "sequentialminus": [
            [
             0,
             "#0d0887"
            ],
            [
             0.1111111111111111,
             "#46039f"
            ],
            [
             0.2222222222222222,
             "#7201a8"
            ],
            [
             0.3333333333333333,
             "#9c179e"
            ],
            [
             0.4444444444444444,
             "#bd3786"
            ],
            [
             0.5555555555555556,
             "#d8576b"
            ],
            [
             0.6666666666666666,
             "#ed7953"
            ],
            [
             0.7777777777777778,
             "#fb9f3a"
            ],
            [
             0.8888888888888888,
             "#fdca26"
            ],
            [
             1,
             "#f0f921"
            ]
           ]
          },
          "colorway": [
           "#636efa",
           "#EF553B",
           "#00cc96",
           "#ab63fa",
           "#FFA15A",
           "#19d3f3",
           "#FF6692",
           "#B6E880",
           "#FF97FF",
           "#FECB52"
          ],
          "font": {
           "color": "#2a3f5f"
          },
          "geo": {
           "bgcolor": "white",
           "lakecolor": "white",
           "landcolor": "#E5ECF6",
           "showlakes": true,
           "showland": true,
           "subunitcolor": "white"
          },
          "hoverlabel": {
           "align": "left"
          },
          "hovermode": "closest",
          "mapbox": {
           "style": "light"
          },
          "paper_bgcolor": "white",
          "plot_bgcolor": "#E5ECF6",
          "polar": {
           "angularaxis": {
            "gridcolor": "white",
            "linecolor": "white",
            "ticks": ""
           },
           "bgcolor": "#E5ECF6",
           "radialaxis": {
            "gridcolor": "white",
            "linecolor": "white",
            "ticks": ""
           }
          },
          "scene": {
           "xaxis": {
            "backgroundcolor": "#E5ECF6",
            "gridcolor": "white",
            "gridwidth": 2,
            "linecolor": "white",
            "showbackground": true,
            "ticks": "",
            "zerolinecolor": "white"
           },
           "yaxis": {
            "backgroundcolor": "#E5ECF6",
            "gridcolor": "white",
            "gridwidth": 2,
            "linecolor": "white",
            "showbackground": true,
            "ticks": "",
            "zerolinecolor": "white"
           },
           "zaxis": {
            "backgroundcolor": "#E5ECF6",
            "gridcolor": "white",
            "gridwidth": 2,
            "linecolor": "white",
            "showbackground": true,
            "ticks": "",
            "zerolinecolor": "white"
           }
          },
          "shapedefaults": {
           "line": {
            "color": "#2a3f5f"
           }
          },
          "ternary": {
           "aaxis": {
            "gridcolor": "white",
            "linecolor": "white",
            "ticks": ""
           },
           "baxis": {
            "gridcolor": "white",
            "linecolor": "white",
            "ticks": ""
           },
           "bgcolor": "#E5ECF6",
           "caxis": {
            "gridcolor": "white",
            "linecolor": "white",
            "ticks": ""
           }
          },
          "title": {
           "x": 0.05
          },
          "xaxis": {
           "automargin": true,
           "gridcolor": "white",
           "linecolor": "white",
           "ticks": "",
           "title": {
            "standoff": 15
           },
           "zerolinecolor": "white",
           "zerolinewidth": 2
          },
          "yaxis": {
           "automargin": true,
           "gridcolor": "white",
           "linecolor": "white",
           "ticks": "",
           "title": {
            "standoff": 15
           },
           "zerolinecolor": "white",
           "zerolinewidth": 2
          }
         }
        },
        "title": {
         "text": "ECMWF ensemble meteogram at 38.00°N, 9.50°W"
        },
        "xaxis": {
         "anchor": "y",
         "domain": [
          0,
          1
         ],
         "gridwidth": 1,
         "showgrid": false,
         "showline": false,
         "zeroline": false
        },
        "yaxis": {
         "anchor": "x",
         "domain": [
          0,
          1
         ],
         "gridcolor": "#EEEEEE",
         "linecolor": "black",
         "showgrid": true,
         "showline": true,
         "title": {
          "text": "m s**-1"
         },
         "zeroline": false
        }
       }
      }
     },
     "metadata": {},
     "output_type": "display_data"
    }
   ],
   "source": [
    "TIME_FREQUENCY = \"1d\"\n",
    "QUANTILES = [0, 0.1, 0.25, 0.5, 0.75, 0.9, 1]\n",
    "LOCATION = ((38, -9.5))\n",
    "\n",
    "chart = Chart()\n",
    "chart.title(f\"ECMWF ensemble meteogram at {location_to_string(LOCATION)}\")\n",
    "#chart.box(ds, time_frequency=TIME_FREQUENCY, quantiles=QUANTILES)\n",
    "chart.line(ds, line_color='grey', time_frequency=TIME_FREQUENCY)\n",
    "chart.show(\"png\")  # Replace with chart.show() in an interactive session!"
   ]
  }
 ],
 "metadata": {
  "kernelspec": {
   "display_name": "test",
   "language": "python",
   "name": "python3"
  },
  "language_info": {
   "codemirror_mode": {
    "name": "ipython",
    "version": 3
   },
   "file_extension": ".py",
   "mimetype": "text/x-python",
   "name": "python",
   "nbconvert_exporter": "python",
   "pygments_lexer": "ipython3",
   "version": "3.13.3"
  }
 },
 "nbformat": 4,
 "nbformat_minor": 5
}
