{
 "cells": [
  {
   "cell_type": "markdown",
   "id": "0",
   "metadata": {},
   "source": [
    "## Prerequisites \n",
    "\n",
    "### Create a virtual environment with required packages\n",
    "\n",
    "You can follow the instructions in the README on how to create a conda environment that can run thsi notebook. You can then choose the kernel you created to run this notebook.\n",
    "\n",
    "### Get the credentials to access polytope. \n",
    "\n",
    "You need to have an account on the [Destination Earth Platform](https://auth.destine.eu/realms/desp/account).\n",
    "\n",
    "Before running the notebook you need to set up your credentials. See the main readme of this repository for different ways to do this or use the following cells to authenticate.\n",
    "\n",
    "You will need to generate your credentials using the desp-authentication.py script.\n",
    "\n",
    "This can be run as follows:"
   ]
  },
  {
   "cell_type": "code",
   "execution_count": null,
   "id": "1",
   "metadata": {
    "tags": [
     "skip-execution"
    ]
   },
   "outputs": [],
   "source": [
    "%%capture cap\n",
    "%run ../desp-authentication.py"
   ]
  },
  {
   "cell_type": "markdown",
   "id": "2",
   "metadata": {},
   "source": [
    "This will generate a token that can then be used by earthkit and polytope."
   ]
  },
  {
   "cell_type": "code",
   "execution_count": null,
   "id": "3",
   "metadata": {
    "tags": [
     "skip-execution"
    ]
   },
   "outputs": [],
   "source": [
    "output_1 = cap.stdout.split('}\\n')\n",
    "access_token = output_1[-1][0:-1]"
   ]
  },
  {
   "cell_type": "markdown",
   "id": "4",
   "metadata": {},
   "source": [
    "The generated access tokens will be written to `~/.polytopeapirc`."
   ]
  },
  {
   "cell_type": "code",
   "execution_count": null,
   "id": "5",
   "metadata": {},
   "outputs": [],
   "source": [
    "import xarray as xr\n",
    "import numpy as np\n",
    "import eccodes\n",
    "import earthkit.data\n",
    "import healpy as hp\n",
    "import matplotlib.pylab as plt\n",
    "import matplotlib.cm as cm\n",
    "import cartopy.crs as ccrs\n",
    "from polytope.api import Client"
   ]
  },
  {
   "cell_type": "code",
   "execution_count": null,
   "id": "6",
   "metadata": {
    "tags": [
     "skip-execution",
     "skip-outputs"
    ]
   },
   "outputs": [],
   "source": [
    "client = Client(\n",
    "    address=\"polytope.lumi.apps.dte.destination-earth.eu\")\n",
    "\n",
    "request = {\n",
    "        \"class\": \"d1\",\n",
    "        \"dataset\": \"climate-dt\",\n",
    "        \"activity\": \"scenariomip\",\n",
    "        \"experiment\": \"ssp3-7.0\",\n",
    "        \"realization\": \"1\",\n",
    "        \"generation\" : \"1\",\n",
    "        \"model\": \"icon\",\n",
    "        \"resolution\": \"high\",\n",
    "        \"expver\": \"0001\",\n",
    "        \"stream\": \"clte\",\n",
    "        \"date\": \"20251129\",\n",
    "        \"time\": \"0000\",\n",
    "        \"type\": \"fc\",\n",
    "        \"levelist\" : \"2\",\n",
    "        \"levtype\": \"o3d\",\n",
    "        \"param\": \"263501\"\n",
    "}\n",
    "\n",
    "file = client.retrieve(\"destination-earth\", request, \"data/climate-dt-healpix-ocean-example.grib\") \n"
   ]
  },
  {
   "cell_type": "code",
   "execution_count": null,
   "id": "7",
   "metadata": {},
   "outputs": [],
   "source": [
    "data = earthkit.data.from_source(\"file\", \"data/climate-dt-healpix-ocean-example.grib\")"
   ]
  },
  {
   "cell_type": "code",
   "execution_count": null,
   "id": "8",
   "metadata": {},
   "outputs": [],
   "source": [
    "dnp=data[0].values-273\n",
    "\n",
    "hp.pixelfunc.get_map_size(dnp)"
   ]
  },
  {
   "cell_type": "code",
   "execution_count": null,
   "id": "9",
   "metadata": {
    "tags": [
     "skip-image"
    ]
   },
   "outputs": [],
   "source": [
    "\n",
    "interpolated_data = hp.cartview(dnp,\n",
    "            flip=\"geo\", \n",
    "            nest=True, \n",
    "            rot=[0,0,],\n",
    "            unit='temperature',\n",
    "            lonra=[-100,-30],\n",
    "            latra=[20, 60],\n",
    "            title='lev 2 pot-temperature over GS (ICON)',\n",
    "            min=3,\n",
    "            max=30,\n",
    "            # notext=True\n",
    "            cmap =cm.RdBu_r,\n",
    "            badcolor='black',\n",
    "            return_projected_map=True\n",
    "           )\n",
    "hp.graticule(dpar=10, dmer=10)\n"
   ]
  },
  {
   "cell_type": "code",
   "execution_count": null,
   "id": "10",
   "metadata": {
    "tags": [
     "skip-execution",
     "skip-outputs"
    ]
   },
   "outputs": [],
   "source": [
    "request = {\n",
    "        \"class\": \"d1\",\n",
    "        \"dataset\": \"climate-dt\",\n",
    "        \"activity\": \"scenariomip\",\n",
    "        \"experiment\": \"ssp3-7.0\",\n",
    "        \"realization\": \"1\",\n",
    "        \"generation\" : \"1\",\n",
    "        \"model\": \"ifs-nemo\",\n",
    "        \"resolution\": \"high\",\n",
    "        \"expver\": \"0001\",\n",
    "        \"stream\": \"clte\",\n",
    "        \"date\": \"20251129\",\n",
    "        \"time\": \"0000\",\n",
    "        \"type\": \"fc\",\n",
    "        \"levelist\" : \"2\",\n",
    "        \"levtype\": \"o3d\",\n",
    "        \"param\": \"263501\"\n",
    "    }\n",
    "\n",
    "file2 = client.retrieve(\"destination-earth\", request, \"data/climate-dt-healpix-ocean-example2.grib\") \n"
   ]
  },
  {
   "cell_type": "code",
   "execution_count": null,
   "id": "11",
   "metadata": {},
   "outputs": [],
   "source": [
    "data2 = earthkit.data.from_source(\"file\", \"data/climate-dt-healpix-ocean-example2.grib\")"
   ]
  },
  {
   "cell_type": "code",
   "execution_count": null,
   "id": "12",
   "metadata": {
    "tags": [
     "skip-image"
    ]
   },
   "outputs": [],
   "source": [
    "dnp2=data2[0].values-273\n",
    "\n",
    "interpolated_data = hp.cartview(dnp2,\n",
    "            flip=\"geo\", \n",
    "            nest=True, \n",
    "            rot=[0,0,],\n",
    "            unit='temperature',\n",
    "            lonra=[-100,-30],\n",
    "            latra=[20, 60],\n",
    "            title='lev 2 pot-temperature over GS (IFS)',\n",
    "            min=3,\n",
    "            max=30,\n",
    "            # notext=True\n",
    "            cmap =cm.RdBu_r,\n",
    "            badcolor='black',\n",
    "            return_projected_map=True\n",
    "           )\n",
    "hp.graticule(dpar=10, dmer=10)"
   ]
  },
  {
   "cell_type": "code",
   "execution_count": null,
   "id": "13",
   "metadata": {},
   "outputs": [],
   "source": []
  }
 ],
 "metadata": {
  "kernelspec": {
   "display_name": "earthkit_11",
   "language": "python",
   "name": "python3"
  },
  "language_info": {
   "codemirror_mode": {
    "name": "ipython",
    "version": 3
   },
   "file_extension": ".py",
   "mimetype": "text/x-python",
   "name": "python",
   "nbconvert_exporter": "python",
   "pygments_lexer": "ipython3",
   "version": "3.13.5"
  }
 },
 "nbformat": 4,
 "nbformat_minor": 5
}
