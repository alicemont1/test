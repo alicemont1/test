{
 "cells": [
  {
   "cell_type": "markdown",
   "id": "0",
   "metadata": {},
   "source": [
    "## Polytope Climate-DT Polygon example notebook\n",
    "\n",
    "This notebook shows how to use earthkit-data and earthkit-plots to pull destination-earth data from LUMI and plot it using earthkit-plots.\n",
    "\n",
    "Before running the notebook you need to set up your credentials. See the main readme of this repository for different ways to do this or use the following cells to authenticate.\n",
    "\n",
    "You will need to generate your credentials using the desp-authentication.py script.\n",
    "\n",
    "This can be run as follows:"
   ]
  },
  {
   "cell_type": "code",
   "execution_count": null,
   "id": "1",
   "metadata": {
    "tags": [
     "skip-execution"
    ]
   },
   "outputs": [],
   "source": [
    "%%capture cap\n",
    "%run ../desp-authentication.py"
   ]
  },
  {
   "cell_type": "markdown",
   "id": "2",
   "metadata": {},
   "source": [
    "This will generate a token that can then be used by earthkit and polytope."
   ]
  },
  {
   "cell_type": "code",
   "execution_count": null,
   "id": "3",
   "metadata": {
    "tags": [
     "skip-execution"
    ]
   },
   "outputs": [],
   "source": [
    "output_1 = cap.stdout.split('}\\n')\n",
    "access_token = output_1[-1][0:-1]"
   ]
  },
  {
   "cell_type": "markdown",
   "id": "4",
   "metadata": {},
   "source": [
    "# Requirements\n",
    "To run this notebook install the following:\n",
    "* pip install earthkit-data\n",
    "* pip install earthkit-plots\n",
    "* pip install earthkit-regrid  (Optional for spectral variables)\n",
    "* pip install cf-units         (Optional for unit conversion in maps)\n",
    "\n",
    "If you do not have eccodes installed please install eccodes using conda as it is a dependency of earthkit, or install earthkit via conda\n",
    "\n",
    "* conda install eccodes -c conda-forge\n",
    "* conda install earthkit-data -c conda-forge"
   ]
  },
  {
   "cell_type": "code",
   "execution_count": null,
   "id": "5",
   "metadata": {},
   "outputs": [],
   "source": [
    "import earthkit.data\n",
    "import earthkit.plots\n",
    "from polytope.api import Client"
   ]
  },
  {
   "cell_type": "code",
   "execution_count": null,
   "id": "6",
   "metadata": {
    "tags": [
     "skip-execution",
     "skip-outputs"
    ]
   },
   "outputs": [],
   "source": [
    "client = Client(\n",
    "    address=\"polytope.lumi.apps.dte.destination-earth.eu\")\n",
    "\n",
    "request = {\n",
    "    \"activity\": \"scenariomip\",\n",
    "    \"class\": \"d1\",\n",
    "    \"dataset\": \"climate-dt\",\n",
    "    \"experiment\": \"ssp3-7.0\",\n",
    "    \"generation\": \"1\",\n",
    "    \"levtype\": \"sfc\",\n",
    "    \"date\": \"20210101\",\n",
    "    \"model\": \"ifs-nemo\",\n",
    "    \"expver\": \"0001\",\n",
    "    \"param\": \"167/165\",\n",
    "    \"realization\": \"1\",\n",
    "    \"resolution\": \"high\",\n",
    "    \"stream\": \"clte\",\n",
    "    \"type\": \"fc\",\n",
    "    \"time\": \"0000\",\n",
    "    \"feature\": {\n",
    "        \"type\": \"polygon\",\n",
    "        \"shape\": [[41.870881288,-8.8791360], [41.694339317422646, -8.824238614026456], [40.171924585721314, -8.902386975546364], [38.75694209400925, -9.493088042617785], [38.42424252381525, -9.171674240710018], [38.49907333213173, -8.676525850529856], [37.057269459205145, -8.971873318897366], [37.162874354643776, -7.406745406502978], [38.19776118392036, -6.931663452624974], [38.4280922170291, -7.321584397020473], [39.011852875635526, -6.9787177479519755], [39.66227871551288, -7.5393956904523804], [39.66568774825791, -7.03915852435145], [40.0019453234905, -6.883203763416162], [40.20373392742229, -7.035724907677206], [40.350463990828985, -6.8135246275213035], [41.030499770212515, -6.905947651233703], [41.593647729084154, -6.22847017956974], [41.67712153119277, -6.544984134823352], [41.949682257268876, -6.567927092516641], [41.96960294343674, -7.1747800681640115], [41.88337981339092, -7.196871678410446], [41.81334515396762,-8.156666519264604], [42.14242723772878, -8.205142297350534], [41.870881288,-8.8791360]],\n",
    "    },\n",
    "}\n",
    "\n",
    "file = client.retrieve(\"destination-earth\", request, \"data/climate-dt-earthkit-fe-polygon.grib\") "
   ]
  },
  {
   "cell_type": "code",
   "execution_count": null,
   "id": "7",
   "metadata": {},
   "outputs": [],
   "source": [
    "data = earthkit.data.from_source(\"file\", \"data/climate-dt-earthkit-fe-polygon.grib\") "
   ]
  },
  {
   "cell_type": "code",
   "execution_count": null,
   "id": "8",
   "metadata": {},
   "outputs": [],
   "source": [
    "data._json()"
   ]
  },
  {
   "cell_type": "code",
   "execution_count": null,
   "id": "9",
   "metadata": {
    "tags": [
     "skip-text-html"
    ]
   },
   "outputs": [],
   "source": [
    "ds = data.to_xarray()\n",
    "ds"
   ]
  },
  {
   "cell_type": "code",
   "execution_count": null,
   "id": "10",
   "metadata": {},
   "outputs": [],
   "source": [
    "chart = earthkit.plots.Map(domain=\"Portugal\")\n",
    "chart.point_cloud(\n",
    "    ds['2t'],\n",
    "    x=\"longitude\",\n",
    "    y=\"latitude\",\n",
    "    auto_style=True\n",
    ")\n",
    "\n",
    "chart.coastlines()\n",
    "chart.borders()\n",
    "chart.gridlines()\n",
    "\n",
    "chart.title(\"{variable_name} (number={number})\")\n",
    "\n",
    "chart.legend()\n",
    "\n",
    "chart.show()"
   ]
  }
 ],
 "metadata": {
  "kernelspec": {
   "display_name": "earthkit_11",
   "language": "python",
   "name": "python3"
  },
  "language_info": {
   "codemirror_mode": {
    "name": "ipython",
    "version": 3
   },
   "file_extension": ".py",
   "mimetype": "text/x-python",
   "name": "python",
   "nbconvert_exporter": "python",
   "pygments_lexer": "ipython3",
   "version": "3.13.5"
  }
 },
 "nbformat": 4,
 "nbformat_minor": 5
}
