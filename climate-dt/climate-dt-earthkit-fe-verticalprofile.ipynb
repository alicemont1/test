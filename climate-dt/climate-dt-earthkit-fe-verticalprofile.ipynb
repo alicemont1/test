{
 "cells": [
  {
   "cell_type": "markdown",
   "id": "089adc3f-943e-4b49-bc45-9e11c737b579",
   "metadata": {},
   "source": [
    "## Polytope Climate-DT Feature Extraction Vertical Profile example notebook\n",
    "\n",
    "This notebook shows how to use earthkit-data and earthkit-plots to pull destination-earth data from LUMI and plot it using earthkit-plots.\n",
    "\n",
    "\n",
    "Before running the notebook you need to set up your credentials. See the main readme of this repository for different ways to do this or use the following cells to authenticate.\n",
    "\n",
    "You will need to generate your credentials using the desp-authentication.py script.\n",
    "\n",
    "This can be run as follows:"
   ]
  },
  {
   "cell_type": "code",
   "execution_count": 7,
   "id": "690284b8-914f-4615-9f10-d64bc0a41dfe",
   "metadata": {
    "tags": [
     "skip-execution"
    ]
   },
   "outputs": [
    {
     "ename": "Exception",
     "evalue": "Invalid username or password.",
     "output_type": "error",
     "traceback": [
      "\u001b[31m---------------------------------------------------------------------------\u001b[39m",
      "\u001b[31mException\u001b[39m                                 Traceback (most recent call last)",
      "\u001b[36mFile \u001b[39m\u001b[32m~/Documents/polytope-examples/desp-authentication.py:82\u001b[39m\n\u001b[32m     76\u001b[39m     error_message_element = tree.xpath(\u001b[33m'\u001b[39m\u001b[33m//span[@id=\u001b[39m\u001b[33m\"\u001b[39m\u001b[33minput-error\u001b[39m\u001b[33m\"\u001b[39m\u001b[33m]/text()\u001b[39m\u001b[33m'\u001b[39m)\n\u001b[32m     77\u001b[39m     error_message = (\n\u001b[32m     78\u001b[39m         error_message_element[\u001b[32m0\u001b[39m].strip()\n\u001b[32m     79\u001b[39m         \u001b[38;5;28;01mif\u001b[39;00m error_message_element\n\u001b[32m     80\u001b[39m         \u001b[38;5;28;01melse\u001b[39;00m \u001b[33m\"\u001b[39m\u001b[33mError message not found\u001b[39m\u001b[33m\"\u001b[39m\n\u001b[32m     81\u001b[39m     )\n\u001b[32m---> \u001b[39m\u001b[32m82\u001b[39m     \u001b[38;5;28;01mraise\u001b[39;00m \u001b[38;5;167;01mException\u001b[39;00m(error_message)\n\u001b[32m     84\u001b[39m \u001b[38;5;28;01mif\u001b[39;00m login.status_code != \u001b[32m302\u001b[39m:\n\u001b[32m     85\u001b[39m     \u001b[38;5;28;01mraise\u001b[39;00m \u001b[38;5;167;01mException\u001b[39;00m(\u001b[33m\"\u001b[39m\u001b[33mLogin failed\u001b[39m\u001b[33m\"\u001b[39m)\n",
      "\u001b[31mException\u001b[39m: Invalid username or password."
     ]
    }
   ],
   "source": [
    "%%capture cap\n",
    "%run ../desp-authentication.py"
   ]
  },
  {
   "cell_type": "markdown",
   "id": "5ac38420-9c94-464f-990a-bf8166004218",
   "metadata": {},
   "source": [
    "This will generate a token that can then be used by earthkit and polytope."
   ]
  },
  {
   "cell_type": "code",
   "execution_count": 8,
   "id": "26249986",
   "metadata": {
    "tags": [
     "skip-execution"
    ]
   },
   "outputs": [],
   "source": [
    "output_1 = cap.stdout.split('}\\n')\n",
    "access_token = output_1[-1][0:-1]"
   ]
  },
  {
   "cell_type": "markdown",
   "id": "a44eafad-eb93-475f-9824-521473c00bb7",
   "metadata": {},
   "source": [
    "# Requirements\n",
    "To run this notebook install the following:\n",
    "* pip install earthkit-data\n",
    "* pip install earthkit-plots\n",
    "* pip install cf-units         (Optional for unit conversion in maps)"
   ]
  },
  {
   "cell_type": "code",
   "execution_count": 15,
   "id": "07e858db",
   "metadata": {},
   "outputs": [],
   "source": [
    "import earthkit.data\n",
    "import earthkit.regrid\n",
    "from earthkit.plots.interactive import Chart\n",
    "from polytope.api import Client"
   ]
  },
  {
   "cell_type": "code",
   "execution_count": 10,
   "id": "b2827834-1bcf-4958-83b4-c3a6b9a70275",
   "metadata": {
    "tags": [
     "skip-execution",
     "skip-outputs"
    ]
   },
   "outputs": [
    {
     "name": "stderr",
     "output_type": "stream",
     "text": [
      "2025-06-17 00:12:40 - INFO - Sending request...\n",
      "{'request': 'activity: scenariomip\\n'\n",
      "            'class: d1\\n'\n",
      "            'dataset: climate-dt\\n'\n",
      "            \"date: '20210101'\\n\"\n",
      "            'experiment: ssp3-7.0\\n'\n",
      "            \"expver: '0001'\\n\"\n",
      "            'feature:\\n'\n",
      "            '  points:\\n'\n",
      "            '  - - 38.9\\n'\n",
      "            '    - -9.1\\n'\n",
      "            '  type: verticalprofile\\n'\n",
      "            \"generation: '1'\\n\"\n",
      "            'levelist: 1/to/1000\\n'\n",
      "            'levtype: pl\\n'\n",
      "            'model: ifs-nemo\\n'\n",
      "            \"param: '131'\\n\"\n",
      "            \"realization: '1'\\n\"\n",
      "            'resolution: high\\n'\n",
      "            'stream: clte\\n'\n",
      "            \"time: '0000'\\n\"\n",
      "            'type: fc\\n',\n",
      " 'verb': 'retrieve'}\n",
      "2025-06-17 00:12:41 - INFO - Request accepted. Please poll ./83632baa-9481-4d0a-a951-a91925510369 for status\n",
      "2025-06-17 00:12:41 - INFO - Checking request status (83632baa-9481-4d0a-a951-a91925510369)...\n",
      "2025-06-17 00:12:41 - INFO - The current status of the request is 'queued'\n",
      "2025-06-17 00:12:42 - INFO - The current status of the request is 'processing'\n",
      "2025-06-17 00:12:46 - INFO - The current status of the request is 'processed'\n",
      "2025-06-17 00:12:46 - INFO - Starting data download (application/prs.coverage+json)...\n",
      "2025-06-17 00:12:46 - INFO - Saving data into /Users/maes/Documents/polytope-examples/climate-dt/data/climate-dt-earthkit-fe-verticalprofile.grib...\n",
      "2025-06-17 00:12:46 - INFO - Data downloaded successfully\n",
      "2025-06-17 00:12:46 - INFO - Download rate 1.1MiB/s\n",
      "2025-06-17 00:12:46 - INFO - Data saved successfully into /Users/maes/Documents/polytope-examples/climate-dt/data/climate-dt-earthkit-fe-verticalprofile.grib\n"
     ]
    }
   ],
   "source": [
    "client = Client(\n",
    "    address=\"polytope.lumi.apps.dte.destination-earth.eu\")\n",
    "\n",
    "\n",
    "request = {\n",
    "        \"activity\": \"scenariomip\",\n",
    "        \"class\": \"d1\",\n",
    "        \"dataset\": \"climate-dt\",\n",
    "        \"experiment\": \"ssp3-7.0\",\n",
    "        \"generation\": \"1\",\n",
    "        \"levtype\": \"pl\",\n",
    "        \"date\": \"20210101\",\n",
    "        \"model\": \"ifs-nemo\",\n",
    "        \"expver\": \"0001\",\n",
    "        \"param\": \"131\",\n",
    "        \"realization\": \"1\",\n",
    "        \"resolution\": \"high\",\n",
    "        \"stream\": \"clte\",\n",
    "        \"type\": \"fc\",\n",
    "        \"time\": \"0000\",\n",
    "        \"levelist\": \"1/to/1000\",\n",
    "        \"feature\": {\n",
    "            \"type\": \"verticalprofile\",\n",
    "            \"points\": [[38.9, -9.1]],\n",
    "        },\n",
    "    }\n",
    "\n",
    "file = client.retrieve(\"destination-earth\", request, \"data/climate-dt-earthkit-fe-verticalprofile.grib\") "
   ]
  },
  {
   "cell_type": "code",
   "execution_count": 11,
   "id": "9f7aacfa",
   "metadata": {},
   "outputs": [],
   "source": [
    "data = earthkit.data.from_source(\"file\", \"data/climate-dt-earthkit-fe-verticalprofile.grib\") "
   ]
  },
  {
   "cell_type": "code",
   "execution_count": 12,
   "id": "15045c6d-5244-4ce8-b921-31cb243e0f12",
   "metadata": {},
   "outputs": [
    {
     "data": {
      "text/plain": [
       "{'type': 'CoverageCollection',\n",
       " 'domainType': 'VerticalProfile',\n",
       " 'coverages': [{'mars:metadata': {'activity': 'scenariomip',\n",
       "    'class': 'd1',\n",
       "    'dataset': 'climate-dt',\n",
       "    'Forecast date': '2021-01-01T00:00:00Z',\n",
       "    'experiment': 'ssp3-7.0',\n",
       "    'expver': '0001',\n",
       "    'generation': '1',\n",
       "    'levelist': 1,\n",
       "    'levtype': 'pl',\n",
       "    'model': 'ifs-nemo',\n",
       "    'realization': '1',\n",
       "    'resolution': 'high',\n",
       "    'stream': 'clte',\n",
       "    'type': 'fc',\n",
       "    'number': 0,\n",
       "    'step': 0},\n",
       "   'type': 'Coverage',\n",
       "   'domain': {'type': 'Domain',\n",
       "    'axes': {'x': {'values': [38.873582658567]},\n",
       "     'y': {'values': [350.9033203125]},\n",
       "     'z': {'values': [1,\n",
       "       5,\n",
       "       10,\n",
       "       20,\n",
       "       30,\n",
       "       50,\n",
       "       70,\n",
       "       100,\n",
       "       150,\n",
       "       200,\n",
       "       250,\n",
       "       300,\n",
       "       400,\n",
       "       500,\n",
       "       600,\n",
       "       700,\n",
       "       850,\n",
       "       925,\n",
       "       1000]},\n",
       "     't': {'values': ['2021-01-01T00:00:00Z']}}},\n",
       "   'ranges': {'u': {'type': 'NdArray',\n",
       "     'dataType': 'float',\n",
       "     'shape': [19],\n",
       "     'axisNames': ['z'],\n",
       "     'values': [32.509979248046875,\n",
       "      -16.59982681274414,\n",
       "      -2.306589126586914,\n",
       "      7.556833267211914,\n",
       "      7.42906379699707,\n",
       "      11.087087631225586,\n",
       "      17.68380355834961,\n",
       "      25.717838287353516,\n",
       "      36.24024200439453,\n",
       "      47.48233222961426,\n",
       "      36.124881744384766,\n",
       "      37.46219253540039,\n",
       "      33.19424057006836,\n",
       "      25.170822143554688,\n",
       "      23.056955337524414,\n",
       "      18.902206420898438,\n",
       "      9.0506591796875,\n",
       "      8.158443450927734,\n",
       "      4.304893493652344]}}}],\n",
       " 'referencing': [{'coordinates': ['x', 'y', 'z'],\n",
       "   'system': {'type': 'GeographicCRS',\n",
       "    'id': 'http://www.opengis.net/def/crs/OGC/1.3/CRS84'}}],\n",
       " 'parameters': {'u': {'type': 'Parameter',\n",
       "   'description': {'en': 'This parameter is the eastward component of the wind.  It is the horizontal speed of air moving towards the east, in metres per second. A negative sign thus indicates air movement towards the west.<br/><br/>This parameter can be combined with the V component of wind to give the speed and direction of the horizontal wind.'},\n",
       "   'unit': {'symbol': 'm s**-1'},\n",
       "   'observedProperty': {'id': 'u', 'label': {'en': 'U component of wind'}}}}}"
      ]
     },
     "execution_count": 12,
     "metadata": {},
     "output_type": "execute_result"
    }
   ],
   "source": [
    "data._json()"
   ]
  },
  {
   "cell_type": "code",
   "execution_count": 13,
   "id": "0c76470c-e897-4747-a56d-c7c786676b52",
   "metadata": {
    "tags": [
     "skip-text-html"
    ]
   },
   "outputs": [],
   "source": [
    "# Convert data to xarray\n",
    "da = data.to_xarray()"
   ]
  },
  {
   "cell_type": "code",
   "execution_count": 17,
   "id": "1980070f",
   "metadata": {},
   "outputs": [
    {
     "data": {
      "image/png": "[encoded data removed]"
     },
     "metadata": {},
     "output_type": "display_data"
    }
   ],
   "source": [
    "chart = Chart()\n",
    "fig = chart.fig\n",
    "fig['layout']['yaxis']['autorange'] = \"reversed\"\n",
    "chart.line(da, y=\"level\")\n",
    "chart.fig.update_layout(yaxis={\"title\": \"hPa\"})\n",
    "chart.title(\"Vertical profile over Lisbon from the DestinE's Climate DT\")\n",
    "chart.show(\"png\")"
   ]
  },
  {
   "cell_type": "code",
   "execution_count": null,
   "id": "6a578f47",
   "metadata": {},
   "outputs": [],
   "source": []
  }
 ],
 "metadata": {
  "kernelspec": {
   "display_name": "earthkit",
   "language": "python",
   "name": "python3"
  },
  "language_info": {
   "codemirror_mode": {
    "name": "ipython",
    "version": 3
   },
   "file_extension": ".py",
   "mimetype": "text/x-python",
   "name": "python",
   "nbconvert_exporter": "python",
   "pygments_lexer": "ipython3",
   "version": "3.13.3"
  }
 },
 "nbformat": 4,
 "nbformat_minor": 5
}
