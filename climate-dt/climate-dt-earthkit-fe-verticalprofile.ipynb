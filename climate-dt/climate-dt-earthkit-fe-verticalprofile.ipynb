{
 "cells": [
  {
   "cell_type": "markdown",
   "id": "0",
   "metadata": {},
   "source": [
    "## Polytope Climate-DT Feature Extraction Vertical Profile example notebook\n",
    "\n",
    "This notebook shows how to use earthkit-data and earthkit-plots to pull destination-earth data from LUMI and plot it using earthkit-plots.\n",
    "\n",
    "\n",
    "Before running the notebook you need to set up your credentials. See the main readme of this repository for different ways to do this or use the following cells to authenticate.\n",
    "\n",
    "You will need to generate your credentials using the desp-authentication.py script.\n",
    "\n",
    "This can be run as follows:"
   ]
  },
  {
   "cell_type": "code",
   "execution_count": null,
   "id": "1",
   "metadata": {
    "tags": [
     "skip-execution"
    ]
   },
   "outputs": [],
   "source": [
    "%%capture cap\n",
    "%run ../desp-authentication.py"
   ]
  },
  {
   "cell_type": "markdown",
   "id": "2",
   "metadata": {},
   "source": [
    "This will generate a token that can then be used by earthkit and polytope."
   ]
  },
  {
   "cell_type": "code",
   "execution_count": null,
   "id": "3",
   "metadata": {
    "tags": [
     "skip-execution"
    ]
   },
   "outputs": [],
   "source": [
    "output_1 = cap.stdout.split('}\\n')\n",
    "access_token = output_1[-1][0:-1]"
   ]
  },
  {
   "cell_type": "markdown",
   "id": "4",
   "metadata": {},
   "source": [
    "# Requirements\n",
    "To run this notebook install the following:\n",
    "* pip install earthkit-data\n",
    "* pip install earthkit-plots\n",
    "* pip install cf-units         (Optional for unit conversion in maps)"
   ]
  },
  {
   "cell_type": "code",
   "execution_count": null,
   "id": "5",
   "metadata": {},
   "outputs": [],
   "source": [
    "import earthkit.data\n",
    "import earthkit.regrid\n",
    "from earthkit.plots.interactive import Chart\n",
    "from polytope.api import Client"
   ]
  },
  {
   "cell_type": "code",
   "execution_count": null,
   "id": "6",
   "metadata": {
    "tags": [
     "skip-execution",
     "skip-outputs"
    ]
   },
   "outputs": [],
   "source": [
    "client = Client(\n",
    "    address=\"polytope.lumi.apps.dte.destination-earth.eu\")\n",
    "\n",
    "\n",
    "request = {\n",
    "        \"activity\": \"scenariomip\",\n",
    "        \"class\": \"d1\",\n",
    "        \"dataset\": \"climate-dt\",\n",
    "        \"experiment\": \"ssp3-7.0\",\n",
    "        \"generation\": \"1\",\n",
    "        \"levtype\": \"pl\",\n",
    "        \"date\": \"20210101\",\n",
    "        \"model\": \"ifs-nemo\",\n",
    "        \"expver\": \"0001\",\n",
    "        \"param\": \"131\",\n",
    "        \"realization\": \"1\",\n",
    "        \"resolution\": \"high\",\n",
    "        \"stream\": \"clte\",\n",
    "        \"type\": \"fc\",\n",
    "        \"time\": \"0000\",\n",
    "        \"levelist\": \"1/to/1000\",\n",
    "        \"feature\": {\n",
    "            \"type\": \"verticalprofile\",\n",
    "            \"points\": [[38.9, -9.1]],\n",
    "        },\n",
    "    }\n",
    "\n",
    "file = client.retrieve(\"destination-earth\", request, \"data/climate-dt-earthkit-fe-verticalprofile.grib\") "
   ]
  },
  {
   "cell_type": "code",
   "execution_count": null,
   "id": "7",
   "metadata": {},
   "outputs": [],
   "source": [
    "data = earthkit.data.from_source(\"file\", \"data/climate-dt-earthkit-fe-verticalprofile.grib\") "
   ]
  },
  {
   "cell_type": "code",
   "execution_count": null,
   "id": "8",
   "metadata": {},
   "outputs": [],
   "source": [
    "data._json()"
   ]
  },
  {
   "cell_type": "code",
   "execution_count": null,
   "id": "9",
   "metadata": {
    "tags": [
     "skip-text-html"
    ]
   },
   "outputs": [],
   "source": [
    "# Convert data to xarray\n",
    "da = data.to_xarray()"
   ]
  },
  {
   "cell_type": "code",
   "execution_count": null,
   "id": "10",
   "metadata": {},
   "outputs": [],
   "source": [
    "da"
   ]
  },
  {
   "cell_type": "code",
   "execution_count": null,
   "id": "11",
   "metadata": {},
   "outputs": [],
   "source": [
    "chart = Chart()\n",
    "fig = chart.fig\n",
    "fig['layout']['yaxis']['autorange'] = \"reversed\"\n",
    "chart.line(da, y=\"levelist\")\n",
    "chart.fig.update_layout(yaxis={\"title\": \"hPa\"})\n",
    "chart.title(\"Vertical profile over Lisbon from the DestinE's Climate DT\")\n",
    "chart.show(\"png\") # Replace with chart.show() in an interactive session!"
   ]
  },
  {
   "cell_type": "code",
   "execution_count": null,
   "id": "12",
   "metadata": {},
   "outputs": [],
   "source": []
  }
 ],
 "metadata": {
  "kernelspec": {
   "display_name": "earthkit_11",
   "language": "python",
   "name": "python3"
  },
  "language_info": {
   "codemirror_mode": {
    "name": "ipython",
    "version": 3
   },
   "file_extension": ".py",
   "mimetype": "text/x-python",
   "name": "python",
   "nbconvert_exporter": "python",
   "pygments_lexer": "ipython3",
   "version": "3.13.5"
  }
 },
 "nbformat": 4,
 "nbformat_minor": 5
}
